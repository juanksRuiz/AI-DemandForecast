{
 "cells": [
  {
   "cell_type": "code",
   "execution_count": 41,
   "metadata": {},
   "outputs": [],
   "source": [
    "import numpy as np\n",
    "import pandas as pd\n",
    "import matplotlib.pyplot as plt\n",
    "import seaborn as sns\n",
    "\n",
    "from sklearn.preprocessing import StandardScaler"
   ]
  },
  {
   "cell_type": "code",
   "execution_count": 42,
   "metadata": {},
   "outputs": [
    {
     "name": "stderr",
     "output_type": "stream",
     "text": [
      "<>:1: SyntaxWarning: invalid escape sequence '\\D'\n",
      "<>:1: SyntaxWarning: invalid escape sequence '\\D'\n",
      "C:\\Users\\juanc\\AppData\\Local\\Temp\\ipykernel_17204\\1703249404.py:1: SyntaxWarning: invalid escape sequence '\\D'\n",
      "  demanda_df = pd.read_csv(\".\\Datos\\demanda.csv\")\n"
     ]
    }
   ],
   "source": [
    "demanda_df = pd.read_csv(\".\\Datos\\demanda.csv\")"
   ]
  },
  {
   "cell_type": "code",
   "execution_count": 43,
   "metadata": {},
   "outputs": [
    {
     "name": "stderr",
     "output_type": "stream",
     "text": [
      "C:\\Users\\juanc\\AppData\\Local\\Temp\\ipykernel_17204\\1390649101.py:2: SettingWithCopyWarning: \n",
      "A value is trying to be set on a copy of a slice from a DataFrame.\n",
      "Try using .loc[row_indexer,col_indexer] = value instead\n",
      "\n",
      "See the caveats in the documentation: https://pandas.pydata.org/pandas-docs/stable/user_guide/indexing.html#returning-a-view-versus-a-copy\n",
      "  demanda_prod_df['date'] = pd.to_datetime(demanda_prod_df['date'], format='%Y-%m-%d')\n"
     ]
    }
   ],
   "source": [
    "demanda_prod_df = demanda_df[demanda_df['id_producto']==1]\n",
    "demanda_prod_df['date'] = pd.to_datetime(demanda_prod_df['date'], format='%Y-%m-%d')\n",
    "\n",
    "# Primero, asegurar que todas las fechas estan\n",
    "# Los datos de demanda iniciales no tienen enero 2020\n",
    "fecha_inicial = pd.to_datetime('2020-01-01')\n",
    "fechas_df = pd.DataFrame({'date': pd.date_range(start=fecha_inicial, end=demanda_prod_df['date'].max())})\n",
    "complete_demanda_prod_df = fechas_df.merge(demanda_prod_df\n",
    "                                           ,how='left'\n",
    "                                           ,left_on='date'\n",
    "                                           ,right_on='date'\n",
    "                                           )\n",
    "\n",
    "\n",
    "complete_demanda_prod_df['anio'] = complete_demanda_prod_df['date'].dt.year\n",
    "complete_demanda_prod_df['mes'] = complete_demanda_prod_df['date'].dt.month\n",
    "complete_demanda_prod_df['dia'] = complete_demanda_prod_df['date'].dt.day"
   ]
  },
  {
   "cell_type": "code",
   "execution_count": 44,
   "metadata": {},
   "outputs": [
    {
     "name": "stderr",
     "output_type": "stream",
     "text": [
      "C:\\Users\\juanc\\AppData\\Local\\Temp\\ipykernel_17204\\3688260578.py:2: FutureWarning: A value is trying to be set on a copy of a DataFrame or Series through chained assignment using an inplace method.\n",
      "The behavior will change in pandas 3.0. This inplace method will never work because the intermediate object on which we are setting values always behaves as a copy.\n",
      "\n",
      "For example, when doing 'df[col].method(value, inplace=True)', try using 'df.method({col: value}, inplace=True)' or df[col] = df[col].method(value) instead, to perform the operation inplace on the original object.\n",
      "\n",
      "\n",
      "  complete_demanda_prod_df['demanda'].ffill(inplace=True)\n",
      "C:\\Users\\juanc\\AppData\\Local\\Temp\\ipykernel_17204\\3688260578.py:3: FutureWarning: A value is trying to be set on a copy of a DataFrame or Series through chained assignment using an inplace method.\n",
      "The behavior will change in pandas 3.0. This inplace method will never work because the intermediate object on which we are setting values always behaves as a copy.\n",
      "\n",
      "For example, when doing 'df[col].method(value, inplace=True)', try using 'df.method({col: value}, inplace=True)' or df[col] = df[col].method(value) instead, to perform the operation inplace on the original object.\n",
      "\n",
      "\n",
      "  complete_demanda_prod_df['demanda'].bfill(inplace=True)\n"
     ]
    }
   ],
   "source": [
    "# Preprocesamiento de la serie de tiempo\n",
    "complete_demanda_prod_df['demanda'].ffill(inplace=True)\n",
    "complete_demanda_prod_df['demanda'].bfill(inplace=True)\n",
    "\n",
    "\n",
    "# Eliminacion de 29 de febrero.\n",
    "complete_demanda_prod_df = complete_demanda_prod_df.sort_values(by='date', ascending=True)\n",
    "complete_demanda_prod_df.reset_index(drop=True, inplace=True)\n",
    "\n",
    "# Crear una columna indicadora para el 29 de febrero\n",
    "complete_demanda_prod_df['is_feb_29'] = complete_demanda_prod_df['date'].apply(lambda x: x.month == 2 and x.day == 29)\n",
    "complete_demanda_prod_df = complete_demanda_prod_df[~complete_demanda_prod_df['is_feb_29']]"
   ]
  },
  {
   "cell_type": "code",
   "execution_count": 45,
   "metadata": {},
   "outputs": [],
   "source": [
    "# Evaluacion de la varianza para saber si necesita alguna transformacion con la prueba de Levine\n",
    "antes_comp_df = complete_demanda_prod_df[complete_demanda_prod_df['date'] < '2021-07-02']\n",
    "antes_comp_df.reset_index(inplace=True, drop=True)\n",
    "despues_comp_df = complete_demanda_prod_df[complete_demanda_prod_df['date'] >= '2021-07-02']\n",
    "despues_comp_df.reset_index(inplace=True, drop=True)"
   ]
  },
  {
   "cell_type": "markdown",
   "metadata": {},
   "source": [
    "## Nota\n",
    "Hacer transformaciones separando datasets antes y despues de la competencia y volver a unir."
   ]
  },
  {
   "cell_type": "code",
   "execution_count": 46,
   "metadata": {},
   "outputs": [
    {
     "name": "stderr",
     "output_type": "stream",
     "text": [
      "C:\\Users\\juanc\\AppData\\Local\\Temp\\ipykernel_17204\\3342914122.py:2: SettingWithCopyWarning: \n",
      "A value is trying to be set on a copy of a slice from a DataFrame.\n",
      "Try using .loc[row_indexer,col_indexer] = value instead\n",
      "\n",
      "See the caveats in the documentation: https://pandas.pydata.org/pandas-docs/stable/user_guide/indexing.html#returning-a-view-versus-a-copy\n",
      "  antes_comp_df['log_demanda'] = np.log(antes_comp_df['demanda'] + 1)\n",
      "C:\\Users\\juanc\\AppData\\Local\\Temp\\ipykernel_17204\\3342914122.py:3: SettingWithCopyWarning: \n",
      "A value is trying to be set on a copy of a slice from a DataFrame.\n",
      "Try using .loc[row_indexer,col_indexer] = value instead\n",
      "\n",
      "See the caveats in the documentation: https://pandas.pydata.org/pandas-docs/stable/user_guide/indexing.html#returning-a-view-versus-a-copy\n",
      "  despues_comp_df['log_demanda'] = np.log(despues_comp_df['demanda'] + 1)\n",
      "C:\\Users\\juanc\\AppData\\Local\\Temp\\ipykernel_17204\\3342914122.py:10: SettingWithCopyWarning: \n",
      "A value is trying to be set on a copy of a slice from a DataFrame.\n",
      "Try using .loc[row_indexer,col_indexer] = value instead\n",
      "\n",
      "See the caveats in the documentation: https://pandas.pydata.org/pandas-docs/stable/user_guide/indexing.html#returning-a-view-versus-a-copy\n",
      "  antes_comp_df['log_demanda_z_scaled'] = scaler_antes.fit_transform(antes_comp_df['log_demanda'].values.reshape(-1, 1))\n",
      "C:\\Users\\juanc\\AppData\\Local\\Temp\\ipykernel_17204\\3342914122.py:11: SettingWithCopyWarning: \n",
      "A value is trying to be set on a copy of a slice from a DataFrame.\n",
      "Try using .loc[row_indexer,col_indexer] = value instead\n",
      "\n",
      "See the caveats in the documentation: https://pandas.pydata.org/pandas-docs/stable/user_guide/indexing.html#returning-a-view-versus-a-copy\n",
      "  despues_comp_df['log_demanda_z_scaled'] = scaler_antes.fit_transform(despues_comp_df['log_demanda'].values.reshape(-1, 1))\n",
      "C:\\Users\\juanc\\AppData\\Local\\Temp\\ipykernel_17204\\3342914122.py:14: SettingWithCopyWarning: \n",
      "A value is trying to be set on a copy of a slice from a DataFrame.\n",
      "Try using .loc[row_indexer,col_indexer] = value instead\n",
      "\n",
      "See the caveats in the documentation: https://pandas.pydata.org/pandas-docs/stable/user_guide/indexing.html#returning-a-view-versus-a-copy\n",
      "  antes_comp_df['dia_de_semana'] = antes_comp_df['date'].dt.weekday.astype(int)\n",
      "C:\\Users\\juanc\\AppData\\Local\\Temp\\ipykernel_17204\\3342914122.py:15: SettingWithCopyWarning: \n",
      "A value is trying to be set on a copy of a slice from a DataFrame.\n",
      "Try using .loc[row_indexer,col_indexer] = value instead\n",
      "\n",
      "See the caveats in the documentation: https://pandas.pydata.org/pandas-docs/stable/user_guide/indexing.html#returning-a-view-versus-a-copy\n",
      "  antes_comp_df['es_fin_de_semana'] = antes_comp_df['date'].dt.weekday.isin([5,6]).astype(int)\n",
      "C:\\Users\\juanc\\AppData\\Local\\Temp\\ipykernel_17204\\3342914122.py:17: SettingWithCopyWarning: \n",
      "A value is trying to be set on a copy of a slice from a DataFrame.\n",
      "Try using .loc[row_indexer,col_indexer] = value instead\n",
      "\n",
      "See the caveats in the documentation: https://pandas.pydata.org/pandas-docs/stable/user_guide/indexing.html#returning-a-view-versus-a-copy\n",
      "  despues_comp_df['dia_de_semana'] = despues_comp_df['date'].dt.weekday.astype(int)\n",
      "C:\\Users\\juanc\\AppData\\Local\\Temp\\ipykernel_17204\\3342914122.py:18: SettingWithCopyWarning: \n",
      "A value is trying to be set on a copy of a slice from a DataFrame.\n",
      "Try using .loc[row_indexer,col_indexer] = value instead\n",
      "\n",
      "See the caveats in the documentation: https://pandas.pydata.org/pandas-docs/stable/user_guide/indexing.html#returning-a-view-versus-a-copy\n",
      "  despues_comp_df['es_fin_de_semana'] = despues_comp_df['date'].dt.weekday.isin([5,6]).astype(int)\n"
     ]
    }
   ],
   "source": [
    "# Aplicando transformacion log a datos para que la varianza no cambie\n",
    "antes_comp_df['log_demanda'] = np.log(antes_comp_df['demanda'] + 1)\n",
    "despues_comp_df['log_demanda'] = np.log(despues_comp_df['demanda'] + 1)\n",
    "\n",
    "\n",
    "# Funcion para aplicar transformaciones (normalizacion y quizas log o raiz cuadrada)\n",
    "scaler_antes = StandardScaler()\n",
    "scaler_despues = StandardScaler()\n",
    "\n",
    "antes_comp_df['log_demanda_z_scaled'] = scaler_antes.fit_transform(antes_comp_df['log_demanda'].values.reshape(-1, 1))\n",
    "despues_comp_df['log_demanda_z_scaled'] = scaler_antes.fit_transform(despues_comp_df['log_demanda'].values.reshape(-1, 1))\n",
    "\n",
    "# Funcion para crear variables exogenas\n",
    "antes_comp_df['dia_de_semana'] = antes_comp_df['date'].dt.weekday.astype(int)\n",
    "antes_comp_df['es_fin_de_semana'] = antes_comp_df['date'].dt.weekday.isin([5,6]).astype(int)\n",
    "\n",
    "despues_comp_df['dia_de_semana'] = despues_comp_df['date'].dt.weekday.astype(int)\n",
    "despues_comp_df['es_fin_de_semana'] = despues_comp_df['date'].dt.weekday.isin([5,6]).astype(int)"
   ]
  },
  {
   "cell_type": "code",
   "execution_count": 47,
   "metadata": {},
   "outputs": [],
   "source": [
    "# Union de los datasets\n",
    "preprocessed_df = pd.concat([antes_comp_df, despues_comp_df], axis=0)\n",
    "preprocessed_df.drop(columns=['is_feb_29'], inplace=True)\n",
    "preprocessed_df = preprocessed_df.sort_values(by='date', ascending=True)"
   ]
  },
  {
   "cell_type": "code",
   "execution_count": 48,
   "metadata": {},
   "outputs": [],
   "source": [
    "# Calculo de la diferencia de variacion\n",
    "preprocessed_df['demanda_diff_1_anio'] = preprocessed_df['demanda'].shift(365)\n",
    "preprocessed_df.dropna(subset=['demanda_diff_1_anio'], inplace=True)\n",
    "preprocessed_df.reset_index(inplace=True, drop=True)\n",
    "preprocessed_df['var_rel_1_anio'] = (preprocessed_df['demanda_diff_1_anio'] - preprocessed_df['demanda']) / preprocessed_df['demanda']\n",
    "\n",
    "preprocessed_df.drop(columns=['demanda_diff_1_anio'], inplace=True)"
   ]
  },
  {
   "cell_type": "code",
   "execution_count": 49,
   "metadata": {},
   "outputs": [],
   "source": [
    "# Transformacion logaritmica a variables continuas\n",
    "preprocessed_df['log_var_rel_1_anio'] = np.log(preprocessed_df['var_rel_1_anio']+1)\n",
    "\n",
    "# Escalamiento de variables numericas\n",
    "exog_var_rel_scaler = StandardScaler()\n",
    "preprocessed_df['log_var_rel_1_anio_z_scaled'] = exog_var_rel_scaler.fit_transform(preprocessed_df['log_var_rel_1_anio'].values.reshape(-1, 1))\n",
    "\n",
    "# Encoding ciclico para variables ciclicas\n",
    "preprocessed_df['mes_sin'] = np.sin(2 * np.pi *preprocessed_df['mes'] / 12)\n",
    "preprocessed_df['mes_cos'] = np.cos(2 * np.pi *preprocessed_df['mes'] / 12)\n",
    "\n",
    "preprocessed_df['dia_sin'] = np.sin(2 * np.pi *preprocessed_df['dia'] / 31)\n",
    "preprocessed_df['dia_cos'] = np.cos(2 * np.pi *preprocessed_df['dia'] / 31)\n",
    "\n",
    "preprocessed_df['dia_de_semana_sin'] = np.sin(2 * np.pi *preprocessed_df['dia_de_semana'] / 7)\n",
    "preprocessed_df['dia_de_semana_cos'] = np.cos(2 * np.pi *preprocessed_df['dia_de_semana'] / 7)\n",
    "\n",
    "# Datos booleanos transformados a enteros 1 o 0\n",
    "# Flag de datos despues de aparicion de tienda de la competencia\n",
    "fecha_cambio = pd.Timestamp(\"2021-07-02\")\n",
    "preprocessed_df[\"flg_date_despues_tienda_competencia\"] = (preprocessed_df[\"date\"] >= fecha_cambio).astype(int)\n",
    "\n",
    "preprocessed_df['es_fin_de_semana'] = preprocessed_df['es_fin_de_semana'].astype(int)\n"
   ]
  },
  {
   "cell_type": "code",
   "execution_count": 50,
   "metadata": {},
   "outputs": [],
   "source": [
    "# Seleccion de variables finales para modelo\n",
    "preprocessed_df = preprocessed_df.loc[:, ['date', 'log_demanda_z_scaled', 'es_fin_de_semana', 'log_var_rel_1_anio_z_scaled'\n",
    "                                           , 'mes_sin', 'mes_cos', 'dia_sin', 'dia_cos', 'dia_de_semana_sin','dia_de_semana_cos']]\n",
    "\n",
    "exog_cols = ['es_fin_de_semana', 'log_var_rel_1_anio_z_scaled'\n",
    "             , 'mes_sin', 'mes_cos', 'dia_sin', 'dia_cos', 'dia_de_semana_sin','dia_de_semana_cos']\n",
    "X_exog = preprocessed_df.loc[:, exog_cols]"
   ]
  },
  {
   "cell_type": "markdown",
   "metadata": {},
   "source": [
    "## Validacion cruzada con variable endogena preprocesada y exogenas"
   ]
  },
  {
   "cell_type": "code",
   "execution_count": null,
   "metadata": {},
   "outputs": [],
   "source": [
    "# ..."
   ]
  }
 ],
 "metadata": {
  "kernelspec": {
   "display_name": "ai-forecast",
   "language": "python",
   "name": "python3"
  },
  "language_info": {
   "codemirror_mode": {
    "name": "ipython",
    "version": 3
   },
   "file_extension": ".py",
   "mimetype": "text/x-python",
   "name": "python",
   "nbconvert_exporter": "python",
   "pygments_lexer": "ipython3",
   "version": "3.12.7"
  }
 },
 "nbformat": 4,
 "nbformat_minor": 2
}
