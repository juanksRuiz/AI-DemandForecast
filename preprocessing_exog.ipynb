{
 "cells": [
  {
   "cell_type": "code",
   "execution_count": 68,
   "metadata": {},
   "outputs": [],
   "source": [
    "import numpy as np\n",
    "import pandas as pd\n",
    "import matplotlib.pyplot as plt\n",
    "import seaborn as sns\n",
    "\n",
    "from sklearn.preprocessing import StandardScaler"
   ]
  },
  {
   "cell_type": "code",
   "execution_count": 69,
   "metadata": {},
   "outputs": [
    {
     "name": "stderr",
     "output_type": "stream",
     "text": [
      "<>:1: SyntaxWarning: invalid escape sequence '\\D'\n",
      "<>:1: SyntaxWarning: invalid escape sequence '\\D'\n",
      "C:\\Users\\juanc\\AppData\\Local\\Temp\\ipykernel_13832\\1703249404.py:1: SyntaxWarning: invalid escape sequence '\\D'\n",
      "  demanda_df = pd.read_csv(\".\\Datos\\demanda.csv\")\n"
     ]
    }
   ],
   "source": [
    "demanda_df = pd.read_csv(\".\\Datos\\demanda.csv\")"
   ]
  },
  {
   "cell_type": "code",
   "execution_count": 70,
   "metadata": {},
   "outputs": [
    {
     "name": "stderr",
     "output_type": "stream",
     "text": [
      "C:\\Users\\juanc\\AppData\\Local\\Temp\\ipykernel_13832\\1390649101.py:2: SettingWithCopyWarning: \n",
      "A value is trying to be set on a copy of a slice from a DataFrame.\n",
      "Try using .loc[row_indexer,col_indexer] = value instead\n",
      "\n",
      "See the caveats in the documentation: https://pandas.pydata.org/pandas-docs/stable/user_guide/indexing.html#returning-a-view-versus-a-copy\n",
      "  demanda_prod_df['date'] = pd.to_datetime(demanda_prod_df['date'], format='%Y-%m-%d')\n"
     ]
    }
   ],
   "source": [
    "demanda_prod_df = demanda_df[demanda_df['id_producto']==1]\n",
    "demanda_prod_df['date'] = pd.to_datetime(demanda_prod_df['date'], format='%Y-%m-%d')\n",
    "\n",
    "# Primero, asegurar que todas las fechas estan\n",
    "# Los datos de demanda iniciales no tienen enero 2020\n",
    "fecha_inicial = pd.to_datetime('2020-01-01')\n",
    "fechas_df = pd.DataFrame({'date': pd.date_range(start=fecha_inicial, end=demanda_prod_df['date'].max())})\n",
    "complete_demanda_prod_df = fechas_df.merge(demanda_prod_df\n",
    "                                           ,how='left'\n",
    "                                           ,left_on='date'\n",
    "                                           ,right_on='date'\n",
    "                                           )\n",
    "\n",
    "\n",
    "complete_demanda_prod_df['anio'] = complete_demanda_prod_df['date'].dt.year\n",
    "complete_demanda_prod_df['mes'] = complete_demanda_prod_df['date'].dt.month\n",
    "complete_demanda_prod_df['dia'] = complete_demanda_prod_df['date'].dt.day"
   ]
  },
  {
   "cell_type": "code",
   "execution_count": 71,
   "metadata": {},
   "outputs": [
    {
     "name": "stderr",
     "output_type": "stream",
     "text": [
      "C:\\Users\\juanc\\AppData\\Local\\Temp\\ipykernel_13832\\3688260578.py:2: FutureWarning: A value is trying to be set on a copy of a DataFrame or Series through chained assignment using an inplace method.\n",
      "The behavior will change in pandas 3.0. This inplace method will never work because the intermediate object on which we are setting values always behaves as a copy.\n",
      "\n",
      "For example, when doing 'df[col].method(value, inplace=True)', try using 'df.method({col: value}, inplace=True)' or df[col] = df[col].method(value) instead, to perform the operation inplace on the original object.\n",
      "\n",
      "\n",
      "  complete_demanda_prod_df['demanda'].ffill(inplace=True)\n",
      "C:\\Users\\juanc\\AppData\\Local\\Temp\\ipykernel_13832\\3688260578.py:3: FutureWarning: A value is trying to be set on a copy of a DataFrame or Series through chained assignment using an inplace method.\n",
      "The behavior will change in pandas 3.0. This inplace method will never work because the intermediate object on which we are setting values always behaves as a copy.\n",
      "\n",
      "For example, when doing 'df[col].method(value, inplace=True)', try using 'df.method({col: value}, inplace=True)' or df[col] = df[col].method(value) instead, to perform the operation inplace on the original object.\n",
      "\n",
      "\n",
      "  complete_demanda_prod_df['demanda'].bfill(inplace=True)\n"
     ]
    }
   ],
   "source": [
    "# Preprocesamiento de la serie de tiempo\n",
    "complete_demanda_prod_df['demanda'].ffill(inplace=True)\n",
    "complete_demanda_prod_df['demanda'].bfill(inplace=True)\n",
    "\n",
    "\n",
    "# Eliminacion de 29 de febrero.\n",
    "complete_demanda_prod_df = complete_demanda_prod_df.sort_values(by='date', ascending=True)\n",
    "complete_demanda_prod_df.reset_index(drop=True, inplace=True)\n",
    "\n",
    "# Crear una columna indicadora para el 29 de febrero\n",
    "complete_demanda_prod_df['is_feb_29'] = complete_demanda_prod_df['date'].apply(lambda x: x.month == 2 and x.day == 29)\n",
    "complete_demanda_prod_df = complete_demanda_prod_df[~complete_demanda_prod_df['is_feb_29']]"
   ]
  },
  {
   "cell_type": "code",
   "execution_count": 72,
   "metadata": {},
   "outputs": [],
   "source": [
    "# Evaluacion de la varianza para saber si necesita alguna transformacion con la prueba de Levine\n",
    "antes_comp_df = complete_demanda_prod_df[complete_demanda_prod_df['date'] < '2021-07-02']\n",
    "antes_comp_df.reset_index(inplace=True, drop=True)\n",
    "despues_comp_df = complete_demanda_prod_df[complete_demanda_prod_df['date'] >= '2021-07-02']\n",
    "despues_comp_df.reset_index(inplace=True, drop=True)"
   ]
  },
  {
   "cell_type": "markdown",
   "metadata": {},
   "source": [
    "## Nota\n",
    "Hacer transformaciones separando datasets antes y despues de la competencia y volver a unir."
   ]
  },
  {
   "cell_type": "code",
   "execution_count": 73,
   "metadata": {},
   "outputs": [
    {
     "name": "stderr",
     "output_type": "stream",
     "text": [
      "C:\\Users\\juanc\\AppData\\Local\\Temp\\ipykernel_13832\\4012779717.py:2: SettingWithCopyWarning: \n",
      "A value is trying to be set on a copy of a slice from a DataFrame.\n",
      "Try using .loc[row_indexer,col_indexer] = value instead\n",
      "\n",
      "See the caveats in the documentation: https://pandas.pydata.org/pandas-docs/stable/user_guide/indexing.html#returning-a-view-versus-a-copy\n",
      "  antes_comp_df['log_demanda'] = np.log(antes_comp_df['demanda'] + 1)\n",
      "C:\\Users\\juanc\\AppData\\Local\\Temp\\ipykernel_13832\\4012779717.py:3: SettingWithCopyWarning: \n",
      "A value is trying to be set on a copy of a slice from a DataFrame.\n",
      "Try using .loc[row_indexer,col_indexer] = value instead\n",
      "\n",
      "See the caveats in the documentation: https://pandas.pydata.org/pandas-docs/stable/user_guide/indexing.html#returning-a-view-versus-a-copy\n",
      "  despues_comp_df['log_demanda'] = np.log(despues_comp_df['demanda'] + 1)\n",
      "C:\\Users\\juanc\\AppData\\Local\\Temp\\ipykernel_13832\\4012779717.py:13: SettingWithCopyWarning: \n",
      "A value is trying to be set on a copy of a slice from a DataFrame.\n",
      "Try using .loc[row_indexer,col_indexer] = value instead\n",
      "\n",
      "See the caveats in the documentation: https://pandas.pydata.org/pandas-docs/stable/user_guide/indexing.html#returning-a-view-versus-a-copy\n",
      "  antes_comp_df['log_demanda_z_scaled'] = scaler_antes.transform(antes_comp_df['log_demanda'].values.reshape(-1, 1))\n",
      "C:\\Users\\juanc\\AppData\\Local\\Temp\\ipykernel_13832\\4012779717.py:14: SettingWithCopyWarning: \n",
      "A value is trying to be set on a copy of a slice from a DataFrame.\n",
      "Try using .loc[row_indexer,col_indexer] = value instead\n",
      "\n",
      "See the caveats in the documentation: https://pandas.pydata.org/pandas-docs/stable/user_guide/indexing.html#returning-a-view-versus-a-copy\n",
      "  despues_comp_df['log_demanda_z_scaled'] = scaler_despues.transform(despues_comp_df['log_demanda'].values.reshape(-1, 1))\n",
      "C:\\Users\\juanc\\AppData\\Local\\Temp\\ipykernel_13832\\4012779717.py:19: SettingWithCopyWarning: \n",
      "A value is trying to be set on a copy of a slice from a DataFrame.\n",
      "Try using .loc[row_indexer,col_indexer] = value instead\n",
      "\n",
      "See the caveats in the documentation: https://pandas.pydata.org/pandas-docs/stable/user_guide/indexing.html#returning-a-view-versus-a-copy\n",
      "  antes_comp_df['dia_de_semana'] = antes_comp_df['date'].dt.weekday.astype(int)\n",
      "C:\\Users\\juanc\\AppData\\Local\\Temp\\ipykernel_13832\\4012779717.py:20: SettingWithCopyWarning: \n",
      "A value is trying to be set on a copy of a slice from a DataFrame.\n",
      "Try using .loc[row_indexer,col_indexer] = value instead\n",
      "\n",
      "See the caveats in the documentation: https://pandas.pydata.org/pandas-docs/stable/user_guide/indexing.html#returning-a-view-versus-a-copy\n",
      "  antes_comp_df['es_fin_de_semana'] = antes_comp_df['date'].dt.weekday.isin([5,6]).astype(int)\n",
      "C:\\Users\\juanc\\AppData\\Local\\Temp\\ipykernel_13832\\4012779717.py:22: SettingWithCopyWarning: \n",
      "A value is trying to be set on a copy of a slice from a DataFrame.\n",
      "Try using .loc[row_indexer,col_indexer] = value instead\n",
      "\n",
      "See the caveats in the documentation: https://pandas.pydata.org/pandas-docs/stable/user_guide/indexing.html#returning-a-view-versus-a-copy\n",
      "  despues_comp_df['dia_de_semana'] = despues_comp_df['date'].dt.weekday.astype(int)\n",
      "C:\\Users\\juanc\\AppData\\Local\\Temp\\ipykernel_13832\\4012779717.py:23: SettingWithCopyWarning: \n",
      "A value is trying to be set on a copy of a slice from a DataFrame.\n",
      "Try using .loc[row_indexer,col_indexer] = value instead\n",
      "\n",
      "See the caveats in the documentation: https://pandas.pydata.org/pandas-docs/stable/user_guide/indexing.html#returning-a-view-versus-a-copy\n",
      "  despues_comp_df['es_fin_de_semana'] = despues_comp_df['date'].dt.weekday.isin([5,6]).astype(int)\n"
     ]
    }
   ],
   "source": [
    "# Aplicando transformacion log a datos para que la varianza no cambie\n",
    "antes_comp_df['log_demanda'] = np.log(antes_comp_df['demanda'] + 1)\n",
    "despues_comp_df['log_demanda'] = np.log(despues_comp_df['demanda'] + 1)\n",
    "\n",
    "\n",
    "# Funcion para aplicar transformaciones (normalizacion y quizas log o raiz cuadrada)\n",
    "scaler_antes = StandardScaler()\n",
    "scaler_despues = StandardScaler()\n",
    "\n",
    "scaler_antes.fit(antes_comp_df['log_demanda'].values.reshape(-1, 1))\n",
    "scaler_despues.fit(despues_comp_df['log_demanda'].values.reshape(-1, 1))\n",
    "\n",
    "antes_comp_df['log_demanda_z_scaled'] = scaler_antes.transform(antes_comp_df['log_demanda'].values.reshape(-1, 1))\n",
    "despues_comp_df['log_demanda_z_scaled'] = scaler_despues.transform(despues_comp_df['log_demanda'].values.reshape(-1, 1))\n",
    "#antes_comp_df['log_demanda_z_scaled'] = scaler_antes.fit_transform(antes_comp_df['log_demanda'].values.reshape(-1, 1))\n",
    "#despues_comp_df['log_demanda_z_scaled'] = scaler_antes.fit_transform(despues_comp_df['log_demanda'].values.reshape(-1, 1))\n",
    "\n",
    "# Funcion para crear variables exogenas\n",
    "antes_comp_df['dia_de_semana'] = antes_comp_df['date'].dt.weekday.astype(int)\n",
    "antes_comp_df['es_fin_de_semana'] = antes_comp_df['date'].dt.weekday.isin([5,6]).astype(int)\n",
    "\n",
    "despues_comp_df['dia_de_semana'] = despues_comp_df['date'].dt.weekday.astype(int)\n",
    "despues_comp_df['es_fin_de_semana'] = despues_comp_df['date'].dt.weekday.isin([5,6]).astype(int)"
   ]
  },
  {
   "cell_type": "code",
   "execution_count": 74,
   "metadata": {},
   "outputs": [],
   "source": [
    "# Union de los datasets\n",
    "preprocessed_df = pd.concat([antes_comp_df, despues_comp_df], axis=0)\n",
    "preprocessed_df.drop(columns=['is_feb_29'], inplace=True)\n",
    "preprocessed_df = preprocessed_df.sort_values(by='date', ascending=True)"
   ]
  },
  {
   "cell_type": "code",
   "execution_count": 75,
   "metadata": {},
   "outputs": [],
   "source": [
    "# Calculo de la diferencia de variacion\n",
    "preprocessed_df['demanda_diff_1_anio'] = preprocessed_df['demanda'].shift(365)\n",
    "preprocessed_df.dropna(subset=['demanda_diff_1_anio'], inplace=True)\n",
    "preprocessed_df.reset_index(inplace=True, drop=True)\n",
    "preprocessed_df['var_rel_1_anio'] = (preprocessed_df['demanda_diff_1_anio'] - preprocessed_df['demanda']) / preprocessed_df['demanda']\n",
    "\n",
    "preprocessed_df.drop(columns=['demanda_diff_1_anio'], inplace=True)"
   ]
  },
  {
   "cell_type": "code",
   "execution_count": 76,
   "metadata": {},
   "outputs": [],
   "source": [
    "# Transformacion logaritmica a variables continuas\n",
    "preprocessed_df['log_var_rel_1_anio'] = np.log(preprocessed_df['var_rel_1_anio']+1)\n",
    "\n",
    "# Escalamiento de variables numericas\n",
    "exog_var_rel_scaler = StandardScaler()\n",
    "preprocessed_df['log_var_rel_1_anio_z_scaled'] = exog_var_rel_scaler.fit_transform(preprocessed_df['log_var_rel_1_anio'].values.reshape(-1, 1))\n",
    "\n",
    "# Encoding ciclico para variables ciclicas\n",
    "preprocessed_df['mes_sin'] = np.sin(2 * np.pi *preprocessed_df['mes'] / 12)\n",
    "preprocessed_df['mes_cos'] = np.cos(2 * np.pi *preprocessed_df['mes'] / 12)\n",
    "\n",
    "preprocessed_df['dia_sin'] = np.sin(2 * np.pi *preprocessed_df['dia'] / 31)\n",
    "preprocessed_df['dia_cos'] = np.cos(2 * np.pi *preprocessed_df['dia'] / 31)\n",
    "\n",
    "preprocessed_df['dia_de_semana_sin'] = np.sin(2 * np.pi *preprocessed_df['dia_de_semana'] / 7)\n",
    "preprocessed_df['dia_de_semana_cos'] = np.cos(2 * np.pi *preprocessed_df['dia_de_semana'] / 7)\n",
    "\n",
    "# Datos booleanos transformados a enteros 1 o 0\n",
    "# Flag de datos despues de aparicion de tienda de la competencia\n",
    "fecha_cambio = pd.Timestamp(\"2021-07-02\")\n",
    "preprocessed_df[\"flg_date_despues_tienda_competencia\"] = (preprocessed_df[\"date\"] >= fecha_cambio).astype(int)\n",
    "\n",
    "preprocessed_df['es_fin_de_semana'] = preprocessed_df['es_fin_de_semana'].astype(int)\n"
   ]
  },
  {
   "cell_type": "code",
   "execution_count": 78,
   "metadata": {},
   "outputs": [],
   "source": [
    "# Seleccion de variables finales para modelo\n",
    "preprocessed_df = preprocessed_df.loc[:, ['date', 'demanda','log_demanda_z_scaled', 'es_fin_de_semana', 'log_var_rel_1_anio_z_scaled'\n",
    "                                           , 'mes_sin', 'mes_cos', 'dia_sin', 'dia_cos', 'dia_de_semana_sin','dia_de_semana_cos']]\n",
    "\n",
    "exog_cols = ['es_fin_de_semana', 'log_var_rel_1_anio_z_scaled'\n",
    "             , 'mes_sin', 'mes_cos', 'dia_sin', 'dia_cos', 'dia_de_semana_sin','dia_de_semana_cos']\n",
    "X_exog = preprocessed_df.loc[:, exog_cols]"
   ]
  },
  {
   "cell_type": "markdown",
   "metadata": {},
   "source": [
    "## Validacion cruzada con variable endogena preprocesada y exogenas"
   ]
  },
  {
   "cell_type": "code",
   "execution_count": 198,
   "metadata": {},
   "outputs": [],
   "source": [
    "# Opcion 1, lo hacemos desde 0 con grid_search\n",
    "import itertools\n",
    "from sklearn.model_selection import TimeSeriesSplit\n",
    "import statsmodels.api as sm"
   ]
  },
  {
   "cell_type": "code",
   "execution_count": 202,
   "metadata": {},
   "outputs": [],
   "source": [
    "# Parámetros a probar\n",
    "p_values = [2]  # AR\n",
    "d_values = [1]  # Ya lo determinaste con ADF\n",
    "q_values = range(6, 20)  # MA\n",
    "\n",
    "# Crear combinaciones de p, d, q\n",
    "param_grid = list(itertools.product(p_values, d_values, q_values))"
   ]
  },
  {
   "cell_type": "code",
   "execution_count": 203,
   "metadata": {},
   "outputs": [],
   "source": [
    "# Validacion cruzada con 3 splits\n",
    "tscv = TimeSeriesSplit(n_splits=3)"
   ]
  },
  {
   "cell_type": "code",
   "execution_count": 204,
   "metadata": {},
   "outputs": [
    {
     "name": "stdout",
     "output_type": "stream",
     "text": [
      "Inicio de ejecucion con (2,1,6)\n"
     ]
    },
    {
     "name": "stderr",
     "output_type": "stream",
     "text": [
      "c:\\Users\\juanc\\Desktop\\AI-DemandForecast\\ai-forecast\\Lib\\site-packages\\statsmodels\\base\\model.py:607: ConvergenceWarning: Maximum Likelihood optimization failed to converge. Check mle_retvals\n",
      "  warnings.warn(\"Maximum Likelihood optimization failed to \"\n",
      "c:\\Users\\juanc\\Desktop\\AI-DemandForecast\\ai-forecast\\Lib\\site-packages\\statsmodels\\tsa\\statespace\\sarimax.py:978: UserWarning: Non-invertible starting MA parameters found. Using zeros as starting parameters.\n",
      "  warn('Non-invertible starting MA parameters found.'\n",
      "c:\\Users\\juanc\\Desktop\\AI-DemandForecast\\ai-forecast\\Lib\\site-packages\\statsmodels\\base\\model.py:607: ConvergenceWarning: Maximum Likelihood optimization failed to converge. Check mle_retvals\n",
      "  warnings.warn(\"Maximum Likelihood optimization failed to \"\n",
      "c:\\Users\\juanc\\Desktop\\AI-DemandForecast\\ai-forecast\\Lib\\site-packages\\statsmodels\\base\\model.py:607: ConvergenceWarning: Maximum Likelihood optimization failed to converge. Check mle_retvals\n",
      "  warnings.warn(\"Maximum Likelihood optimization failed to \"\n"
     ]
    },
    {
     "name": "stdout",
     "output_type": "stream",
     "text": [
      "Entrenamiento finalizado\n",
      "----------------------------------\n",
      "Inicio de ejecucion con (2,1,7)\n"
     ]
    },
    {
     "name": "stderr",
     "output_type": "stream",
     "text": [
      "c:\\Users\\juanc\\Desktop\\AI-DemandForecast\\ai-forecast\\Lib\\site-packages\\statsmodels\\base\\model.py:607: ConvergenceWarning: Maximum Likelihood optimization failed to converge. Check mle_retvals\n",
      "  warnings.warn(\"Maximum Likelihood optimization failed to \"\n",
      "c:\\Users\\juanc\\Desktop\\AI-DemandForecast\\ai-forecast\\Lib\\site-packages\\statsmodels\\base\\model.py:607: ConvergenceWarning: Maximum Likelihood optimization failed to converge. Check mle_retvals\n",
      "  warnings.warn(\"Maximum Likelihood optimization failed to \"\n",
      "c:\\Users\\juanc\\Desktop\\AI-DemandForecast\\ai-forecast\\Lib\\site-packages\\statsmodels\\base\\model.py:607: ConvergenceWarning: Maximum Likelihood optimization failed to converge. Check mle_retvals\n",
      "  warnings.warn(\"Maximum Likelihood optimization failed to \"\n"
     ]
    },
    {
     "name": "stdout",
     "output_type": "stream",
     "text": [
      "Entrenamiento finalizado\n",
      "----------------------------------\n",
      "Inicio de ejecucion con (2,1,8)\n"
     ]
    },
    {
     "name": "stderr",
     "output_type": "stream",
     "text": [
      "c:\\Users\\juanc\\Desktop\\AI-DemandForecast\\ai-forecast\\Lib\\site-packages\\statsmodels\\base\\model.py:607: ConvergenceWarning: Maximum Likelihood optimization failed to converge. Check mle_retvals\n",
      "  warnings.warn(\"Maximum Likelihood optimization failed to \"\n",
      "c:\\Users\\juanc\\Desktop\\AI-DemandForecast\\ai-forecast\\Lib\\site-packages\\statsmodels\\base\\model.py:607: ConvergenceWarning: Maximum Likelihood optimization failed to converge. Check mle_retvals\n",
      "  warnings.warn(\"Maximum Likelihood optimization failed to \"\n",
      "c:\\Users\\juanc\\Desktop\\AI-DemandForecast\\ai-forecast\\Lib\\site-packages\\statsmodels\\base\\model.py:607: ConvergenceWarning: Maximum Likelihood optimization failed to converge. Check mle_retvals\n",
      "  warnings.warn(\"Maximum Likelihood optimization failed to \"\n",
      "c:\\Users\\juanc\\Desktop\\AI-DemandForecast\\ai-forecast\\Lib\\site-packages\\statsmodels\\tsa\\statespace\\sarimax.py:978: UserWarning: Non-invertible starting MA parameters found. Using zeros as starting parameters.\n",
      "  warn('Non-invertible starting MA parameters found.'\n"
     ]
    },
    {
     "name": "stdout",
     "output_type": "stream",
     "text": [
      "Entrenamiento finalizado\n",
      "----------------------------------\n",
      "Inicio de ejecucion con (2,1,9)\n"
     ]
    },
    {
     "name": "stderr",
     "output_type": "stream",
     "text": [
      "c:\\Users\\juanc\\Desktop\\AI-DemandForecast\\ai-forecast\\Lib\\site-packages\\statsmodels\\base\\model.py:607: ConvergenceWarning: Maximum Likelihood optimization failed to converge. Check mle_retvals\n",
      "  warnings.warn(\"Maximum Likelihood optimization failed to \"\n",
      "c:\\Users\\juanc\\Desktop\\AI-DemandForecast\\ai-forecast\\Lib\\site-packages\\statsmodels\\base\\model.py:607: ConvergenceWarning: Maximum Likelihood optimization failed to converge. Check mle_retvals\n",
      "  warnings.warn(\"Maximum Likelihood optimization failed to \"\n",
      "c:\\Users\\juanc\\Desktop\\AI-DemandForecast\\ai-forecast\\Lib\\site-packages\\statsmodels\\base\\model.py:607: ConvergenceWarning: Maximum Likelihood optimization failed to converge. Check mle_retvals\n",
      "  warnings.warn(\"Maximum Likelihood optimization failed to \"\n"
     ]
    },
    {
     "name": "stdout",
     "output_type": "stream",
     "text": [
      "Entrenamiento finalizado\n",
      "----------------------------------\n",
      "Inicio de ejecucion con (2,1,10)\n"
     ]
    },
    {
     "name": "stderr",
     "output_type": "stream",
     "text": [
      "c:\\Users\\juanc\\Desktop\\AI-DemandForecast\\ai-forecast\\Lib\\site-packages\\statsmodels\\base\\model.py:607: ConvergenceWarning: Maximum Likelihood optimization failed to converge. Check mle_retvals\n",
      "  warnings.warn(\"Maximum Likelihood optimization failed to \"\n",
      "c:\\Users\\juanc\\Desktop\\AI-DemandForecast\\ai-forecast\\Lib\\site-packages\\statsmodels\\base\\model.py:607: ConvergenceWarning: Maximum Likelihood optimization failed to converge. Check mle_retvals\n",
      "  warnings.warn(\"Maximum Likelihood optimization failed to \"\n",
      "c:\\Users\\juanc\\Desktop\\AI-DemandForecast\\ai-forecast\\Lib\\site-packages\\statsmodels\\base\\model.py:607: ConvergenceWarning: Maximum Likelihood optimization failed to converge. Check mle_retvals\n",
      "  warnings.warn(\"Maximum Likelihood optimization failed to \"\n"
     ]
    },
    {
     "name": "stdout",
     "output_type": "stream",
     "text": [
      "Entrenamiento finalizado\n",
      "----------------------------------\n",
      "Inicio de ejecucion con (2,1,11)\n"
     ]
    },
    {
     "name": "stderr",
     "output_type": "stream",
     "text": [
      "c:\\Users\\juanc\\Desktop\\AI-DemandForecast\\ai-forecast\\Lib\\site-packages\\statsmodels\\base\\model.py:607: ConvergenceWarning: Maximum Likelihood optimization failed to converge. Check mle_retvals\n",
      "  warnings.warn(\"Maximum Likelihood optimization failed to \"\n",
      "c:\\Users\\juanc\\Desktop\\AI-DemandForecast\\ai-forecast\\Lib\\site-packages\\statsmodels\\base\\model.py:607: ConvergenceWarning: Maximum Likelihood optimization failed to converge. Check mle_retvals\n",
      "  warnings.warn(\"Maximum Likelihood optimization failed to \"\n",
      "c:\\Users\\juanc\\Desktop\\AI-DemandForecast\\ai-forecast\\Lib\\site-packages\\statsmodels\\base\\model.py:607: ConvergenceWarning: Maximum Likelihood optimization failed to converge. Check mle_retvals\n",
      "  warnings.warn(\"Maximum Likelihood optimization failed to \"\n"
     ]
    },
    {
     "name": "stdout",
     "output_type": "stream",
     "text": [
      "Entrenamiento finalizado\n",
      "----------------------------------\n",
      "Inicio de ejecucion con (2,1,12)\n"
     ]
    },
    {
     "name": "stderr",
     "output_type": "stream",
     "text": [
      "c:\\Users\\juanc\\Desktop\\AI-DemandForecast\\ai-forecast\\Lib\\site-packages\\statsmodels\\base\\model.py:607: ConvergenceWarning: Maximum Likelihood optimization failed to converge. Check mle_retvals\n",
      "  warnings.warn(\"Maximum Likelihood optimization failed to \"\n",
      "c:\\Users\\juanc\\Desktop\\AI-DemandForecast\\ai-forecast\\Lib\\site-packages\\statsmodels\\base\\model.py:607: ConvergenceWarning: Maximum Likelihood optimization failed to converge. Check mle_retvals\n",
      "  warnings.warn(\"Maximum Likelihood optimization failed to \"\n",
      "c:\\Users\\juanc\\Desktop\\AI-DemandForecast\\ai-forecast\\Lib\\site-packages\\statsmodels\\base\\model.py:607: ConvergenceWarning: Maximum Likelihood optimization failed to converge. Check mle_retvals\n",
      "  warnings.warn(\"Maximum Likelihood optimization failed to \"\n",
      "c:\\Users\\juanc\\Desktop\\AI-DemandForecast\\ai-forecast\\Lib\\site-packages\\statsmodels\\tsa\\statespace\\sarimax.py:978: UserWarning: Non-invertible starting MA parameters found. Using zeros as starting parameters.\n",
      "  warn('Non-invertible starting MA parameters found.'\n"
     ]
    },
    {
     "name": "stdout",
     "output_type": "stream",
     "text": [
      "Entrenamiento finalizado\n",
      "----------------------------------\n",
      "Inicio de ejecucion con (2,1,13)\n"
     ]
    },
    {
     "name": "stderr",
     "output_type": "stream",
     "text": [
      "c:\\Users\\juanc\\Desktop\\AI-DemandForecast\\ai-forecast\\Lib\\site-packages\\statsmodels\\base\\model.py:607: ConvergenceWarning: Maximum Likelihood optimization failed to converge. Check mle_retvals\n",
      "  warnings.warn(\"Maximum Likelihood optimization failed to \"\n",
      "c:\\Users\\juanc\\Desktop\\AI-DemandForecast\\ai-forecast\\Lib\\site-packages\\statsmodels\\base\\model.py:607: ConvergenceWarning: Maximum Likelihood optimization failed to converge. Check mle_retvals\n",
      "  warnings.warn(\"Maximum Likelihood optimization failed to \"\n",
      "c:\\Users\\juanc\\Desktop\\AI-DemandForecast\\ai-forecast\\Lib\\site-packages\\statsmodels\\base\\model.py:607: ConvergenceWarning: Maximum Likelihood optimization failed to converge. Check mle_retvals\n",
      "  warnings.warn(\"Maximum Likelihood optimization failed to \"\n",
      "c:\\Users\\juanc\\Desktop\\AI-DemandForecast\\ai-forecast\\Lib\\site-packages\\statsmodels\\tsa\\statespace\\sarimax.py:978: UserWarning: Non-invertible starting MA parameters found. Using zeros as starting parameters.\n",
      "  warn('Non-invertible starting MA parameters found.'\n"
     ]
    },
    {
     "name": "stdout",
     "output_type": "stream",
     "text": [
      "Entrenamiento finalizado\n",
      "----------------------------------\n",
      "Inicio de ejecucion con (2,1,14)\n"
     ]
    },
    {
     "name": "stderr",
     "output_type": "stream",
     "text": [
      "c:\\Users\\juanc\\Desktop\\AI-DemandForecast\\ai-forecast\\Lib\\site-packages\\statsmodels\\base\\model.py:607: ConvergenceWarning: Maximum Likelihood optimization failed to converge. Check mle_retvals\n",
      "  warnings.warn(\"Maximum Likelihood optimization failed to \"\n",
      "c:\\Users\\juanc\\Desktop\\AI-DemandForecast\\ai-forecast\\Lib\\site-packages\\statsmodels\\base\\model.py:607: ConvergenceWarning: Maximum Likelihood optimization failed to converge. Check mle_retvals\n",
      "  warnings.warn(\"Maximum Likelihood optimization failed to \"\n",
      "c:\\Users\\juanc\\Desktop\\AI-DemandForecast\\ai-forecast\\Lib\\site-packages\\statsmodels\\base\\model.py:607: ConvergenceWarning: Maximum Likelihood optimization failed to converge. Check mle_retvals\n",
      "  warnings.warn(\"Maximum Likelihood optimization failed to \"\n"
     ]
    },
    {
     "name": "stdout",
     "output_type": "stream",
     "text": [
      "Entrenamiento finalizado\n",
      "----------------------------------\n",
      "Inicio de ejecucion con (2,1,15)\n"
     ]
    },
    {
     "name": "stderr",
     "output_type": "stream",
     "text": [
      "c:\\Users\\juanc\\Desktop\\AI-DemandForecast\\ai-forecast\\Lib\\site-packages\\statsmodels\\base\\model.py:607: ConvergenceWarning: Maximum Likelihood optimization failed to converge. Check mle_retvals\n",
      "  warnings.warn(\"Maximum Likelihood optimization failed to \"\n",
      "c:\\Users\\juanc\\Desktop\\AI-DemandForecast\\ai-forecast\\Lib\\site-packages\\statsmodels\\base\\model.py:607: ConvergenceWarning: Maximum Likelihood optimization failed to converge. Check mle_retvals\n",
      "  warnings.warn(\"Maximum Likelihood optimization failed to \"\n",
      "c:\\Users\\juanc\\Desktop\\AI-DemandForecast\\ai-forecast\\Lib\\site-packages\\statsmodels\\tsa\\statespace\\sarimax.py:978: UserWarning: Non-invertible starting MA parameters found. Using zeros as starting parameters.\n",
      "  warn('Non-invertible starting MA parameters found.'\n",
      "c:\\Users\\juanc\\Desktop\\AI-DemandForecast\\ai-forecast\\Lib\\site-packages\\statsmodels\\base\\model.py:607: ConvergenceWarning: Maximum Likelihood optimization failed to converge. Check mle_retvals\n",
      "  warnings.warn(\"Maximum Likelihood optimization failed to \"\n"
     ]
    },
    {
     "name": "stdout",
     "output_type": "stream",
     "text": [
      "Entrenamiento finalizado\n",
      "----------------------------------\n",
      "Inicio de ejecucion con (2,1,16)\n"
     ]
    },
    {
     "name": "stderr",
     "output_type": "stream",
     "text": [
      "c:\\Users\\juanc\\Desktop\\AI-DemandForecast\\ai-forecast\\Lib\\site-packages\\statsmodels\\base\\model.py:607: ConvergenceWarning: Maximum Likelihood optimization failed to converge. Check mle_retvals\n",
      "  warnings.warn(\"Maximum Likelihood optimization failed to \"\n",
      "c:\\Users\\juanc\\Desktop\\AI-DemandForecast\\ai-forecast\\Lib\\site-packages\\statsmodels\\base\\model.py:607: ConvergenceWarning: Maximum Likelihood optimization failed to converge. Check mle_retvals\n",
      "  warnings.warn(\"Maximum Likelihood optimization failed to \"\n",
      "c:\\Users\\juanc\\Desktop\\AI-DemandForecast\\ai-forecast\\Lib\\site-packages\\statsmodels\\base\\model.py:607: ConvergenceWarning: Maximum Likelihood optimization failed to converge. Check mle_retvals\n",
      "  warnings.warn(\"Maximum Likelihood optimization failed to \"\n"
     ]
    },
    {
     "name": "stdout",
     "output_type": "stream",
     "text": [
      "Entrenamiento finalizado\n",
      "----------------------------------\n",
      "Inicio de ejecucion con (2,1,17)\n"
     ]
    },
    {
     "name": "stderr",
     "output_type": "stream",
     "text": [
      "c:\\Users\\juanc\\Desktop\\AI-DemandForecast\\ai-forecast\\Lib\\site-packages\\statsmodels\\base\\model.py:607: ConvergenceWarning: Maximum Likelihood optimization failed to converge. Check mle_retvals\n",
      "  warnings.warn(\"Maximum Likelihood optimization failed to \"\n",
      "c:\\Users\\juanc\\Desktop\\AI-DemandForecast\\ai-forecast\\Lib\\site-packages\\statsmodels\\base\\model.py:607: ConvergenceWarning: Maximum Likelihood optimization failed to converge. Check mle_retvals\n",
      "  warnings.warn(\"Maximum Likelihood optimization failed to \"\n",
      "c:\\Users\\juanc\\Desktop\\AI-DemandForecast\\ai-forecast\\Lib\\site-packages\\statsmodels\\base\\model.py:607: ConvergenceWarning: Maximum Likelihood optimization failed to converge. Check mle_retvals\n",
      "  warnings.warn(\"Maximum Likelihood optimization failed to \"\n"
     ]
    },
    {
     "name": "stdout",
     "output_type": "stream",
     "text": [
      "Entrenamiento finalizado\n",
      "----------------------------------\n",
      "Inicio de ejecucion con (2,1,18)\n"
     ]
    },
    {
     "name": "stderr",
     "output_type": "stream",
     "text": [
      "c:\\Users\\juanc\\Desktop\\AI-DemandForecast\\ai-forecast\\Lib\\site-packages\\statsmodels\\base\\model.py:607: ConvergenceWarning: Maximum Likelihood optimization failed to converge. Check mle_retvals\n",
      "  warnings.warn(\"Maximum Likelihood optimization failed to \"\n",
      "c:\\Users\\juanc\\Desktop\\AI-DemandForecast\\ai-forecast\\Lib\\site-packages\\statsmodels\\base\\model.py:607: ConvergenceWarning: Maximum Likelihood optimization failed to converge. Check mle_retvals\n",
      "  warnings.warn(\"Maximum Likelihood optimization failed to \"\n",
      "c:\\Users\\juanc\\Desktop\\AI-DemandForecast\\ai-forecast\\Lib\\site-packages\\statsmodels\\base\\model.py:607: ConvergenceWarning: Maximum Likelihood optimization failed to converge. Check mle_retvals\n",
      "  warnings.warn(\"Maximum Likelihood optimization failed to \"\n"
     ]
    },
    {
     "name": "stdout",
     "output_type": "stream",
     "text": [
      "Entrenamiento finalizado\n",
      "----------------------------------\n",
      "Inicio de ejecucion con (2,1,19)\n"
     ]
    },
    {
     "name": "stderr",
     "output_type": "stream",
     "text": [
      "c:\\Users\\juanc\\Desktop\\AI-DemandForecast\\ai-forecast\\Lib\\site-packages\\statsmodels\\base\\model.py:607: ConvergenceWarning: Maximum Likelihood optimization failed to converge. Check mle_retvals\n",
      "  warnings.warn(\"Maximum Likelihood optimization failed to \"\n",
      "c:\\Users\\juanc\\Desktop\\AI-DemandForecast\\ai-forecast\\Lib\\site-packages\\statsmodels\\base\\model.py:607: ConvergenceWarning: Maximum Likelihood optimization failed to converge. Check mle_retvals\n",
      "  warnings.warn(\"Maximum Likelihood optimization failed to \"\n"
     ]
    },
    {
     "name": "stdout",
     "output_type": "stream",
     "text": [
      "Entrenamiento finalizado\n",
      "----------------------------------\n"
     ]
    },
    {
     "name": "stderr",
     "output_type": "stream",
     "text": [
      "c:\\Users\\juanc\\Desktop\\AI-DemandForecast\\ai-forecast\\Lib\\site-packages\\statsmodels\\base\\model.py:607: ConvergenceWarning: Maximum Likelihood optimization failed to converge. Check mle_retvals\n",
      "  warnings.warn(\"Maximum Likelihood optimization failed to \"\n"
     ]
    }
   ],
   "source": [
    "# Lista que almacena sublistas con la combinacion de (p,d,q) y el promedio de los rmse con esos valores de parametros\n",
    "results = []\n",
    "\n",
    "for p, d ,q in param_grid:\n",
    "    try:\n",
    "        print(f\"Inicio de ejecucion con ({p},{d},{q})\")\n",
    "        errors = []\n",
    "        for train_idx, test_idx in tscv.split(preprocessed_df['log_demanda_z_scaled']):\n",
    "            train, test = preprocessed_df['log_demanda_z_scaled'][train_idx], preprocessed_df['log_demanda_z_scaled'][test_idx]\n",
    "            X_exog_train = X_exog.iloc[train_idx,:]\n",
    "            X_exog_test = X_exog.iloc[test_idx,:]\n",
    "\n",
    "            # Entrenamiento del modelo ARIMA con parametros actuales\n",
    "            modelo = sm.tsa.arima.ARIMA(train, order=(p, d, q)\n",
    "                                        , enforce_stationarity=True\n",
    "                                        , enforce_invertibility=True\n",
    "                                        , exog=X_exog_train\n",
    "                                        )\n",
    "            modelo_fit = modelo.fit()\n",
    "\n",
    "            # Predicciones en el conjunto de prueba\n",
    "            predictions = modelo_fit.forecast(steps=len(test), exog=X_exog_test)\n",
    "\n",
    "\n",
    "            # Calculo de RMSE para un split\n",
    "            split_rmse = np.sqrt(np.mean((predictions - test)**2))\n",
    "            errors.append(split_rmse)\n",
    "\n",
    "        # Promedio de los errores de os splits\n",
    "        avg_rmse = np.mean(errors)\n",
    "        results.append(((p, d, q), avg_rmse))\n",
    "        print(\"Entrenamiento finalizado\")\n",
    "        print(\"----------------------------------\")\n",
    "\n",
    "    except Exception as e:\n",
    "        print(f\"Error con la combinacion ({p},{d},{q})\")\n",
    "        print(e)\n",
    "        print(\"----------------------------------\")\n",
    "    #    continue # en caso de error se ignora esa combinacion\n",
    "        "
   ]
  },
  {
   "cell_type": "code",
   "execution_count": 205,
   "metadata": {},
   "outputs": [
    {
     "data": {
      "text/plain": [
       "[((2, 1, 6), np.float64(1.4698889690508068)),\n",
       " ((2, 1, 7), np.float64(1.6958355063722468)),\n",
       " ((2, 1, 8), np.float64(1.7221154689492588)),\n",
       " ((2, 1, 9), np.float64(1.7588534635563777)),\n",
       " ((2, 1, 10), np.float64(1.4735079679714291)),\n",
       " ((2, 1, 11), np.float64(1.4284679604875798)),\n",
       " ((2, 1, 12), np.float64(1.4678332292412037)),\n",
       " ((2, 1, 13), np.float64(1.5573021557127174)),\n",
       " ((2, 1, 14), np.float64(1.526275011502894)),\n",
       " ((2, 1, 15), np.float64(1.4426889220880124)),\n",
       " ((2, 1, 16), np.float64(1.436602353233769)),\n",
       " ((2, 1, 17), np.float64(1.4246878428472787)),\n",
       " ((2, 1, 18), np.float64(1.4219145947589757)),\n",
       " ((2, 1, 19), np.float64(1.3857208753388004))]"
      ]
     },
     "execution_count": 205,
     "metadata": {},
     "output_type": "execute_result"
    }
   ],
   "source": [
    "results"
   ]
  },
  {
   "cell_type": "code",
   "execution_count": 206,
   "metadata": {},
   "outputs": [
    {
     "name": "stdout",
     "output_type": "stream",
     "text": [
      "Mejor configuración de ARIMA: (2, 1, 19) con RMSE = 1.3857208753388004\n"
     ]
    }
   ],
   "source": [
    "# Seleccionar los mejores parámetros (menor RMSE)\n",
    "best_params, best_rmse = min(results, key=lambda x: x[1])\n",
    "\n",
    "print(f\"Mejor configuración de ARIMA: {best_params} con RMSE = {best_rmse}\")"
   ]
  },
  {
   "cell_type": "code",
   "execution_count": 241,
   "metadata": {},
   "outputs": [],
   "source": [
    "# Validacion de entrenamiento final con datos separacion de datos para graficar predicciones y datos finales de los ultimos N dias\n",
    "N_forecast = 60\n",
    "y_train = preprocessed_df['log_demanda_z_scaled'][:-N_forecast]\n",
    "y_test = preprocessed_df['log_demanda_z_scaled'][-N_forecast:]\n",
    "\n",
    "X_exog_train = X_exog.iloc[:-N_forecast, :]\n",
    "X_exog_test = X_exog.iloc[-N_forecast:, :]"
   ]
  },
  {
   "cell_type": "code",
   "execution_count": 242,
   "metadata": {},
   "outputs": [
    {
     "name": "stdout",
     "output_type": "stream",
     "text": [
      "RMSE = 0.7852561111346595\n"
     ]
    }
   ],
   "source": [
    "# Ejecucion del modelo ARIMA\n",
    "# Entrenamiento del modelo ARIMA con parametros actuales\n",
    "modelo = sm.tsa.arima.ARIMA(y_train, order=(2, 1, 20)\n",
    "                            , enforce_stationarity=True\n",
    "                            , enforce_invertibility=True\n",
    "                            , exog=X_exog_train\n",
    "                            )\n",
    "modelo_fit = modelo.fit(method_kwargs={\"maxiter\": 300})\n",
    "\n",
    "# Predicciones en el conjunto de prueba\n",
    "predictions = modelo_fit.forecast(steps=len(y_test), exog=X_exog_test)\n",
    "\n",
    "# Calculo de RMSE para un split\n",
    "split_rmse = np.sqrt(np.mean((predictions - y_test)**2))\n",
    "print(f\"RMSE = {split_rmse}\")"
   ]
  },
  {
   "cell_type": "code",
   "execution_count": 243,
   "metadata": {},
   "outputs": [],
   "source": [
    "# Transformaciones inversas para obtener datos finales y volver a calcular los predecidos.\n",
    "dic_test = {'date': preprocessed_df['date'][-N_forecast:]\n",
    "            ,'y_test_log_demanda_scaled': y_test\n",
    "            ,'predicciones': predictions\n",
    "            ,'demanda': preprocessed_df['demanda'][-N_forecast:]\n",
    "            }\n",
    "\n",
    "test_df = pd.DataFrame(dic_test)\n",
    "test_df.reset_index(inplace=True, drop=True)"
   ]
  },
  {
   "cell_type": "code",
   "execution_count": 244,
   "metadata": {},
   "outputs": [],
   "source": [
    "# Transformacion original de datos\n",
    "test_df['original_predictions'] = test_df.apply(\n",
    "    lambda row: np.exp(scaler_antes.inverse_transform([[row['predicciones']]])[0][0]) - 1\n",
    "    if row['date'] < pd.Timestamp('2022-07-02') \n",
    "    else np.exp(scaler_despues.inverse_transform([[row['predicciones']]])[0][0]) - 1,\n",
    "    axis=1\n",
    ")"
   ]
  },
  {
   "cell_type": "code",
   "execution_count": 245,
   "metadata": {},
   "outputs": [
    {
     "name": "stdout",
     "output_type": "stream",
     "text": [
      "RMSE = 9.843008081679013\n"
     ]
    }
   ],
   "source": [
    "# Calculo de RMSE final\n",
    "rmse_final = np.sqrt(np.mean((test_df['original_predictions'] - test_df['demanda'])**2))\n",
    "print(f\"RMSE = {rmse_final}\")"
   ]
  },
  {
   "cell_type": "code",
   "execution_count": 246,
   "metadata": {},
   "outputs": [
    {
     "data": {
      "image/png": "[encoded data removed]",
      "text/plain": [
       "<Figure size 800x500 with 1 Axes>"
      ]
     },
     "metadata": {},
     "output_type": "display_data"
    }
   ],
   "source": [
    "fig = plt.figure(figsize=(8,5))\n",
    "plt.plot(test_df['date'], test_df['demanda'])\n",
    "plt.plot(test_df['date'], test_df['original_predictions'])\n",
    "\n",
    "plt.gca().xaxis.set_major_formatter(plt.matplotlib.dates.DateFormatter('%Y-%m'))\n",
    "\n",
    "plt.title(f\"Test: Demanda real vs Predicciones \\n RMSE = {rmse_final}\")\n",
    "plt.legend(['Demanda real', 'Prediccion'])\n",
    "plt.show()"
   ]
  },
  {
   "cell_type": "markdown",
   "metadata": {},
   "source": [
    "**Predicciones**\n",
    "- Corregir variables exogenas\n",
    "- Cross validation con 10 a 30 para parametro q.\n",
    "- Evaluar seasonality\n",
    "- Revisar como estimar tendencia, estacionalidad y ruido por separado y si es mejor que sobre los datos directamente"
   ]
  },
  {
   "cell_type": "markdown",
   "metadata": {},
   "source": []
  }
 ],
 "metadata": {
  "kernelspec": {
   "display_name": "ai-forecast",
   "language": "python",
   "name": "python3"
  },
  "language_info": {
   "codemirror_mode": {
    "name": "ipython",
    "version": 3
   },
   "file_extension": ".py",
   "mimetype": "text/x-python",
   "name": "python",
   "nbconvert_exporter": "python",
   "pygments_lexer": "ipython3",
   "version": "3.12.7"
  }
 },
 "nbformat": 4,
 "nbformat_minor": 2
}
