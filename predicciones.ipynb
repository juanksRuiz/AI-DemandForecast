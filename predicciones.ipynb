{
 "cells": [
  {
   "cell_type": "markdown",
   "metadata": {},
   "source": [
    "# Prediccion de demanda"
   ]
  },
  {
   "cell_type": "code",
   "execution_count": 187,
   "metadata": {},
   "outputs": [],
   "source": [
    "import numpy as np\n",
    "import pandas as pd\n",
    "import matplotlib.pyplot as plt\n",
    "import seaborn as sns"
   ]
  },
  {
   "cell_type": "markdown",
   "metadata": {},
   "source": [
    "## 1. Con reglas duras  de las variaciones por dia"
   ]
  },
  {
   "cell_type": "markdown",
   "metadata": {},
   "source": [
    "**Plan:**\n",
    "1. Sacar entre dias del anios consecutivos la variacion\n",
    "2. Promediar (o con mediana) la variacion media al dia\n",
    "3. Multiplicar los valores de los ultimos dias por la variacion calculada en el punto 2."
   ]
  },
  {
   "cell_type": "code",
   "execution_count": 188,
   "metadata": {},
   "outputs": [
    {
     "name": "stderr",
     "output_type": "stream",
     "text": [
      "<>:1: SyntaxWarning: invalid escape sequence '\\D'\n",
      "<>:1: SyntaxWarning: invalid escape sequence '\\D'\n",
      "C:\\Users\\juanc\\AppData\\Local\\Temp\\ipykernel_25612\\1703249404.py:1: SyntaxWarning: invalid escape sequence '\\D'\n",
      "  demanda_df = pd.read_csv(\".\\Datos\\demanda.csv\")\n"
     ]
    }
   ],
   "source": [
    "demanda_df = pd.read_csv(\".\\Datos\\demanda.csv\")"
   ]
  },
  {
   "cell_type": "code",
   "execution_count": 189,
   "metadata": {},
   "outputs": [],
   "source": [
    "demanda_prod_df = demanda_df[demanda_df['id_producto']==1]"
   ]
  },
  {
   "cell_type": "code",
   "execution_count": 190,
   "metadata": {},
   "outputs": [
    {
     "data": {
      "text/html": [
       "<div>\n",
       "<style scoped>\n",
       "    .dataframe tbody tr th:only-of-type {\n",
       "        vertical-align: middle;\n",
       "    }\n",
       "\n",
       "    .dataframe tbody tr th {\n",
       "        vertical-align: top;\n",
       "    }\n",
       "\n",
       "    .dataframe thead th {\n",
       "        text-align: right;\n",
       "    }\n",
       "</style>\n",
       "<table border=\"1\" class=\"dataframe\">\n",
       "  <thead>\n",
       "    <tr style=\"text-align: right;\">\n",
       "      <th></th>\n",
       "      <th>date</th>\n",
       "      <th>id_producto</th>\n",
       "      <th>demanda</th>\n",
       "    </tr>\n",
       "  </thead>\n",
       "  <tbody>\n",
       "    <tr>\n",
       "      <th>127</th>\n",
       "      <td>2020-01-02</td>\n",
       "      <td>1</td>\n",
       "      <td>110</td>\n",
       "    </tr>\n",
       "    <tr>\n",
       "      <th>253</th>\n",
       "      <td>2020-01-03</td>\n",
       "      <td>1</td>\n",
       "      <td>140</td>\n",
       "    </tr>\n",
       "    <tr>\n",
       "      <th>380</th>\n",
       "      <td>2020-01-04</td>\n",
       "      <td>1</td>\n",
       "      <td>121</td>\n",
       "    </tr>\n",
       "    <tr>\n",
       "      <th>508</th>\n",
       "      <td>2020-01-05</td>\n",
       "      <td>1</td>\n",
       "      <td>140</td>\n",
       "    </tr>\n",
       "    <tr>\n",
       "      <th>766</th>\n",
       "      <td>2020-01-07</td>\n",
       "      <td>1</td>\n",
       "      <td>102</td>\n",
       "    </tr>\n",
       "  </tbody>\n",
       "</table>\n",
       "</div>"
      ],
      "text/plain": [
       "           date  id_producto  demanda\n",
       "127  2020-01-02            1      110\n",
       "253  2020-01-03            1      140\n",
       "380  2020-01-04            1      121\n",
       "508  2020-01-05            1      140\n",
       "766  2020-01-07            1      102"
      ]
     },
     "execution_count": 190,
     "metadata": {},
     "output_type": "execute_result"
    }
   ],
   "source": [
    "demanda_prod_df.head()"
   ]
  },
  {
   "cell_type": "code",
   "execution_count": 191,
   "metadata": {},
   "outputs": [
    {
     "name": "stderr",
     "output_type": "stream",
     "text": [
      "C:\\Users\\juanc\\AppData\\Local\\Temp\\ipykernel_25612\\56672937.py:1: SettingWithCopyWarning: \n",
      "A value is trying to be set on a copy of a slice from a DataFrame.\n",
      "Try using .loc[row_indexer,col_indexer] = value instead\n",
      "\n",
      "See the caveats in the documentation: https://pandas.pydata.org/pandas-docs/stable/user_guide/indexing.html#returning-a-view-versus-a-copy\n",
      "  demanda_prod_df['date'] = pd.to_datetime(demanda_prod_df['date'], format='%Y-%m-%d')\n",
      "C:\\Users\\juanc\\AppData\\Local\\Temp\\ipykernel_25612\\56672937.py:2: SettingWithCopyWarning: \n",
      "A value is trying to be set on a copy of a slice from a DataFrame.\n",
      "Try using .loc[row_indexer,col_indexer] = value instead\n",
      "\n",
      "See the caveats in the documentation: https://pandas.pydata.org/pandas-docs/stable/user_guide/indexing.html#returning-a-view-versus-a-copy\n",
      "  demanda_prod_df['anio'] = demanda_prod_df['date'].dt.year\n",
      "C:\\Users\\juanc\\AppData\\Local\\Temp\\ipykernel_25612\\56672937.py:3: SettingWithCopyWarning: \n",
      "A value is trying to be set on a copy of a slice from a DataFrame.\n",
      "Try using .loc[row_indexer,col_indexer] = value instead\n",
      "\n",
      "See the caveats in the documentation: https://pandas.pydata.org/pandas-docs/stable/user_guide/indexing.html#returning-a-view-versus-a-copy\n",
      "  demanda_prod_df['mes'] = demanda_prod_df['date'].dt.month\n",
      "C:\\Users\\juanc\\AppData\\Local\\Temp\\ipykernel_25612\\56672937.py:4: SettingWithCopyWarning: \n",
      "A value is trying to be set on a copy of a slice from a DataFrame.\n",
      "Try using .loc[row_indexer,col_indexer] = value instead\n",
      "\n",
      "See the caveats in the documentation: https://pandas.pydata.org/pandas-docs/stable/user_guide/indexing.html#returning-a-view-versus-a-copy\n",
      "  demanda_prod_df['dia'] = demanda_prod_df['date'].dt.day\n"
     ]
    }
   ],
   "source": [
    "demanda_prod_df['date'] = pd.to_datetime(demanda_prod_df['date'], format='%Y-%m-%d')\n",
    "demanda_prod_df['anio'] = demanda_prod_df['date'].dt.year\n",
    "demanda_prod_df['mes'] = demanda_prod_df['date'].dt.month\n",
    "demanda_prod_df['dia'] = demanda_prod_df['date'].dt.day"
   ]
  },
  {
   "cell_type": "code",
   "execution_count": 192,
   "metadata": {},
   "outputs": [
    {
     "data": {
      "text/html": [
       "<div>\n",
       "<style scoped>\n",
       "    .dataframe tbody tr th:only-of-type {\n",
       "        vertical-align: middle;\n",
       "    }\n",
       "\n",
       "    .dataframe tbody tr th {\n",
       "        vertical-align: top;\n",
       "    }\n",
       "\n",
       "    .dataframe thead th {\n",
       "        text-align: right;\n",
       "    }\n",
       "</style>\n",
       "<table border=\"1\" class=\"dataframe\">\n",
       "  <thead>\n",
       "    <tr style=\"text-align: right;\">\n",
       "      <th></th>\n",
       "      <th>date</th>\n",
       "      <th>id_producto</th>\n",
       "      <th>demanda</th>\n",
       "      <th>anio</th>\n",
       "      <th>mes</th>\n",
       "      <th>dia</th>\n",
       "    </tr>\n",
       "  </thead>\n",
       "  <tbody>\n",
       "    <tr>\n",
       "      <th>127</th>\n",
       "      <td>2020-01-02</td>\n",
       "      <td>1</td>\n",
       "      <td>110</td>\n",
       "      <td>2020</td>\n",
       "      <td>1</td>\n",
       "      <td>2</td>\n",
       "    </tr>\n",
       "    <tr>\n",
       "      <th>253</th>\n",
       "      <td>2020-01-03</td>\n",
       "      <td>1</td>\n",
       "      <td>140</td>\n",
       "      <td>2020</td>\n",
       "      <td>1</td>\n",
       "      <td>3</td>\n",
       "    </tr>\n",
       "    <tr>\n",
       "      <th>380</th>\n",
       "      <td>2020-01-04</td>\n",
       "      <td>1</td>\n",
       "      <td>121</td>\n",
       "      <td>2020</td>\n",
       "      <td>1</td>\n",
       "      <td>4</td>\n",
       "    </tr>\n",
       "    <tr>\n",
       "      <th>508</th>\n",
       "      <td>2020-01-05</td>\n",
       "      <td>1</td>\n",
       "      <td>140</td>\n",
       "      <td>2020</td>\n",
       "      <td>1</td>\n",
       "      <td>5</td>\n",
       "    </tr>\n",
       "    <tr>\n",
       "      <th>766</th>\n",
       "      <td>2020-01-07</td>\n",
       "      <td>1</td>\n",
       "      <td>102</td>\n",
       "      <td>2020</td>\n",
       "      <td>1</td>\n",
       "      <td>7</td>\n",
       "    </tr>\n",
       "  </tbody>\n",
       "</table>\n",
       "</div>"
      ],
      "text/plain": [
       "          date  id_producto  demanda  anio  mes  dia\n",
       "127 2020-01-02            1      110  2020    1    2\n",
       "253 2020-01-03            1      140  2020    1    3\n",
       "380 2020-01-04            1      121  2020    1    4\n",
       "508 2020-01-05            1      140  2020    1    5\n",
       "766 2020-01-07            1      102  2020    1    7"
      ]
     },
     "execution_count": 192,
     "metadata": {},
     "output_type": "execute_result"
    }
   ],
   "source": [
    "demanda_prod_df.head()"
   ]
  },
  {
   "cell_type": "code",
   "execution_count": 193,
   "metadata": {},
   "outputs": [],
   "source": [
    "# Crear un dataframe vacio\n",
    "demanda_prod_df = demanda_prod_df.sort_values(by='date', ascending=True)\n",
    "demanda_prod_df.reset_index(drop=True, inplace=True)\n",
    "\n",
    "# Crear una columna indicadora para el 29 de febrero\n",
    "demanda_prod_df['is_feb_29'] = demanda_prod_df['date'].apply(lambda x: x.month == 2 and x.day == 29)\n",
    "demanda_prod_df = demanda_prod_df[~demanda_prod_df['is_feb_29']]\n",
    "\n",
    "# Crear la clave mes-día\n",
    "demanda_prod_df['mes_dia'] = demanda_prod_df['mes'].astype(str) + '-' + demanda_prod_df['dia'].astype(str)\n",
    "\n",
    "# Crear la tabla pivote\n",
    "transformed_df = demanda_prod_df.pivot_table(index='mes_dia', columns='anio', values='demanda')\n",
    "\n",
    "# Resetear el índice y eliminar nombres de índice no deseados\n",
    "transformed_df.reset_index(inplace=True)\n",
    "transformed_df.columns.name = None  # Quita el nombre del índice de columnas"
   ]
  },
  {
   "cell_type": "code",
   "execution_count": 194,
   "metadata": {},
   "outputs": [],
   "source": [
    "# Renombrar columnas de años a 'demanda_{anio}'\n",
    "transformed_df = transformed_df.rename(columns=lambda x: f\"demanda_{x}\" if isinstance(x, int) else x)"
   ]
  },
  {
   "cell_type": "code",
   "execution_count": 195,
   "metadata": {},
   "outputs": [],
   "source": [
    "# Calculo de diferencia de datos\n",
    "cols_demanda = [c for c in transformed_df.columns if 'demanda' in c]\n",
    "for i,c in enumerate(cols_demanda):\n",
    "    if i>0:\n",
    "        transformed_df['pct_var_rel_{a}_{am1}'.format(a=cols_demanda[i][-4:], am1=cols_demanda[i-1][-4:])] = \\\n",
    "            (transformed_df[cols_demanda[i]] - transformed_df[cols_demanda[i-1]]) / transformed_df[cols_demanda[i-1]]"
   ]
  },
  {
   "cell_type": "code",
   "execution_count": null,
   "metadata": {},
   "outputs": [
    {
     "data": {
      "text/html": [
       "<div>\n",
       "<style scoped>\n",
       "    .dataframe tbody tr th:only-of-type {\n",
       "        vertical-align: middle;\n",
       "    }\n",
       "\n",
       "    .dataframe tbody tr th {\n",
       "        vertical-align: top;\n",
       "    }\n",
       "\n",
       "    .dataframe thead th {\n",
       "        text-align: right;\n",
       "    }\n",
       "</style>\n",
       "<table border=\"1\" class=\"dataframe\">\n",
       "  <thead>\n",
       "    <tr style=\"text-align: right;\">\n",
       "      <th></th>\n",
       "      <th>mes_dia</th>\n",
       "      <th>demanda_2020</th>\n",
       "      <th>demanda_2021</th>\n",
       "      <th>demanda_2022</th>\n",
       "      <th>pct_var_rel_2021_2020</th>\n",
       "      <th>pct_var_rel_2022_2021</th>\n",
       "    </tr>\n",
       "  </thead>\n",
       "  <tbody>\n",
       "    <tr>\n",
       "      <th>0</th>\n",
       "      <td>1-1</td>\n",
       "      <td>NaN</td>\n",
       "      <td>183.0</td>\n",
       "      <td>134.0</td>\n",
       "      <td>NaN</td>\n",
       "      <td>-0.267760</td>\n",
       "    </tr>\n",
       "    <tr>\n",
       "      <th>1</th>\n",
       "      <td>1-10</td>\n",
       "      <td>115.0</td>\n",
       "      <td>120.0</td>\n",
       "      <td>83.0</td>\n",
       "      <td>0.043478</td>\n",
       "      <td>-0.308333</td>\n",
       "    </tr>\n",
       "    <tr>\n",
       "      <th>2</th>\n",
       "      <td>1-11</td>\n",
       "      <td>95.0</td>\n",
       "      <td>139.0</td>\n",
       "      <td>74.0</td>\n",
       "      <td>0.463158</td>\n",
       "      <td>-0.467626</td>\n",
       "    </tr>\n",
       "    <tr>\n",
       "      <th>3</th>\n",
       "      <td>1-12</td>\n",
       "      <td>127.0</td>\n",
       "      <td>102.0</td>\n",
       "      <td>76.0</td>\n",
       "      <td>-0.196850</td>\n",
       "      <td>-0.254902</td>\n",
       "    </tr>\n",
       "    <tr>\n",
       "      <th>4</th>\n",
       "      <td>1-13</td>\n",
       "      <td>88.0</td>\n",
       "      <td>107.0</td>\n",
       "      <td>62.0</td>\n",
       "      <td>0.215909</td>\n",
       "      <td>-0.420561</td>\n",
       "    </tr>\n",
       "    <tr>\n",
       "      <th>...</th>\n",
       "      <td>...</td>\n",
       "      <td>...</td>\n",
       "      <td>...</td>\n",
       "      <td>...</td>\n",
       "      <td>...</td>\n",
       "      <td>...</td>\n",
       "    </tr>\n",
       "    <tr>\n",
       "      <th>360</th>\n",
       "      <td>9-5</td>\n",
       "      <td>71.0</td>\n",
       "      <td>67.0</td>\n",
       "      <td>43.0</td>\n",
       "      <td>-0.056338</td>\n",
       "      <td>-0.358209</td>\n",
       "    </tr>\n",
       "    <tr>\n",
       "      <th>361</th>\n",
       "      <td>9-6</td>\n",
       "      <td>79.0</td>\n",
       "      <td>40.0</td>\n",
       "      <td>45.0</td>\n",
       "      <td>-0.493671</td>\n",
       "      <td>0.125000</td>\n",
       "    </tr>\n",
       "    <tr>\n",
       "      <th>362</th>\n",
       "      <td>9-7</td>\n",
       "      <td>64.0</td>\n",
       "      <td>51.0</td>\n",
       "      <td>48.0</td>\n",
       "      <td>-0.203125</td>\n",
       "      <td>-0.058824</td>\n",
       "    </tr>\n",
       "    <tr>\n",
       "      <th>363</th>\n",
       "      <td>9-8</td>\n",
       "      <td>63.0</td>\n",
       "      <td>48.0</td>\n",
       "      <td>45.0</td>\n",
       "      <td>-0.238095</td>\n",
       "      <td>-0.062500</td>\n",
       "    </tr>\n",
       "    <tr>\n",
       "      <th>364</th>\n",
       "      <td>9-9</td>\n",
       "      <td>NaN</td>\n",
       "      <td>37.0</td>\n",
       "      <td>54.0</td>\n",
       "      <td>NaN</td>\n",
       "      <td>0.459459</td>\n",
       "    </tr>\n",
       "  </tbody>\n",
       "</table>\n",
       "<p>365 rows × 6 columns</p>\n",
       "</div>"
      ],
      "text/plain": [
       "    mes_dia  demanda_2020  demanda_2021  demanda_2022  pct_var_rel_2021_2020  \\\n",
       "0       1-1           NaN         183.0         134.0                    NaN   \n",
       "1      1-10         115.0         120.0          83.0               0.043478   \n",
       "2      1-11          95.0         139.0          74.0               0.463158   \n",
       "3      1-12         127.0         102.0          76.0              -0.196850   \n",
       "4      1-13          88.0         107.0          62.0               0.215909   \n",
       "..      ...           ...           ...           ...                    ...   \n",
       "360     9-5          71.0          67.0          43.0              -0.056338   \n",
       "361     9-6          79.0          40.0          45.0              -0.493671   \n",
       "362     9-7          64.0          51.0          48.0              -0.203125   \n",
       "363     9-8          63.0          48.0          45.0              -0.238095   \n",
       "364     9-9           NaN          37.0          54.0                    NaN   \n",
       "\n",
       "     pct_var_rel_2022_2021  \n",
       "0                -0.267760  \n",
       "1                -0.308333  \n",
       "2                -0.467626  \n",
       "3                -0.254902  \n",
       "4                -0.420561  \n",
       "..                     ...  \n",
       "360              -0.358209  \n",
       "361               0.125000  \n",
       "362              -0.058824  \n",
       "363              -0.062500  \n",
       "364               0.459459  \n",
       "\n",
       "[365 rows x 6 columns]"
      ]
     },
     "execution_count": 196,
     "metadata": {},
     "output_type": "execute_result"
    }
   ],
   "source": [
    "# Calcular la media del porcentage de varianza relativo"
   ]
  },
  {
   "cell_type": "markdown",
   "metadata": {},
   "source": [
    "# 2. Con un modelo Autoregresivo"
   ]
  },
  {
   "cell_type": "markdown",
   "metadata": {},
   "source": [
    "# 3. Con una Red Neuronal Recurrente o LSTM"
   ]
  },
  {
   "cell_type": "markdown",
   "metadata": {},
   "source": []
  }
 ],
 "metadata": {
  "kernelspec": {
   "display_name": "ai-forecast",
   "language": "python",
   "name": "python3"
  },
  "language_info": {
   "codemirror_mode": {
    "name": "ipython",
    "version": 3
   },
   "file_extension": ".py",
   "mimetype": "text/x-python",
   "name": "python",
   "nbconvert_exporter": "python",
   "pygments_lexer": "ipython3",
   "version": "3.12.7"
  }
 },
 "nbformat": 4,
 "nbformat_minor": 2
}
