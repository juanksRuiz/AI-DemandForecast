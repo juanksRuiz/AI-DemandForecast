{
 "cells": [
  {
   "cell_type": "markdown",
   "metadata": {},
   "source": [
    "# Prediccion de demanda"
   ]
  },
  {
   "cell_type": "markdown",
   "metadata": {},
   "source": [
    "## Pendiente:\n",
    "- Imputar los datos faltantes con interpolacion polinomica de cada año o con KNN\n",
    "- **Mejoras en prediccion simple**: Crear pipeline (funcion) Si se quiere una validacion con solo los datos de entrenamiento"
   ]
  },
  {
   "cell_type": "code",
   "execution_count": 1,
   "metadata": {},
   "outputs": [],
   "source": [
    "import numpy as np\n",
    "import pandas as pd\n",
    "import matplotlib.pyplot as plt\n",
    "import seaborn as sns"
   ]
  },
  {
   "cell_type": "markdown",
   "metadata": {},
   "source": [
    "## 1. Con reglas duras  de las variaciones por dia"
   ]
  },
  {
   "cell_type": "markdown",
   "metadata": {},
   "source": [
    "**Plan:**\n",
    "1. Sacar entre dias del anios consecutivos la variacion\n",
    "2. Promediar (o con mediana) la variacion media al dia\n",
    "3. Multiplicar los valores de los ultimos dias por la variacion calculada en el punto 2."
   ]
  },
  {
   "cell_type": "code",
   "execution_count": 43,
   "metadata": {},
   "outputs": [
    {
     "name": "stderr",
     "output_type": "stream",
     "text": [
      "<>:1: SyntaxWarning: invalid escape sequence '\\D'\n",
      "<>:1: SyntaxWarning: invalid escape sequence '\\D'\n",
      "C:\\Users\\juanc\\AppData\\Local\\Temp\\ipykernel_27640\\1703249404.py:1: SyntaxWarning: invalid escape sequence '\\D'\n",
      "  demanda_df = pd.read_csv(\".\\Datos\\demanda.csv\")\n"
     ]
    }
   ],
   "source": [
    "demanda_df = pd.read_csv(\".\\Datos\\demanda.csv\")"
   ]
  },
  {
   "cell_type": "code",
   "execution_count": 44,
   "metadata": {},
   "outputs": [
    {
     "name": "stderr",
     "output_type": "stream",
     "text": [
      "C:\\Users\\juanc\\AppData\\Local\\Temp\\ipykernel_27640\\1390649101.py:2: SettingWithCopyWarning: \n",
      "A value is trying to be set on a copy of a slice from a DataFrame.\n",
      "Try using .loc[row_indexer,col_indexer] = value instead\n",
      "\n",
      "See the caveats in the documentation: https://pandas.pydata.org/pandas-docs/stable/user_guide/indexing.html#returning-a-view-versus-a-copy\n",
      "  demanda_prod_df['date'] = pd.to_datetime(demanda_prod_df['date'], format='%Y-%m-%d')\n"
     ]
    }
   ],
   "source": [
    "demanda_prod_df = demanda_df[demanda_df['id_producto']==1]\n",
    "demanda_prod_df['date'] = pd.to_datetime(demanda_prod_df['date'], format='%Y-%m-%d')\n",
    "\n",
    "# Primero, asegurar que todas las fechas estan\n",
    "# Los datos de demanda iniciales no tienen enero 2020\n",
    "fecha_inicial = pd.to_datetime('2020-01-01')\n",
    "fechas_df = pd.DataFrame({'date': pd.date_range(start=fecha_inicial, end=demanda_prod_df['date'].max())})\n",
    "complete_demanda_prod_df = fechas_df.merge(demanda_prod_df\n",
    "                                           ,how='left'\n",
    "                                           ,left_on='date'\n",
    "                                           ,right_on='date'\n",
    "                                           )\n",
    "\n",
    "\n",
    "complete_demanda_prod_df['anio'] = complete_demanda_prod_df['date'].dt.year\n",
    "complete_demanda_prod_df['mes'] = complete_demanda_prod_df['date'].dt.month\n",
    "complete_demanda_prod_df['dia'] = complete_demanda_prod_df['date'].dt.day"
   ]
  },
  {
   "cell_type": "code",
   "execution_count": 45,
   "metadata": {},
   "outputs": [
    {
     "name": "stderr",
     "output_type": "stream",
     "text": [
      "C:\\Users\\juanc\\AppData\\Local\\Temp\\ipykernel_27640\\480715261.py:2: FutureWarning: A value is trying to be set on a copy of a DataFrame or Series through chained assignment using an inplace method.\n",
      "The behavior will change in pandas 3.0. This inplace method will never work because the intermediate object on which we are setting values always behaves as a copy.\n",
      "\n",
      "For example, when doing 'df[col].method(value, inplace=True)', try using 'df.method({col: value}, inplace=True)' or df[col] = df[col].method(value) instead, to perform the operation inplace on the original object.\n",
      "\n",
      "\n",
      "  complete_demanda_prod_df['demanda'].ffill(inplace=True)\n",
      "C:\\Users\\juanc\\AppData\\Local\\Temp\\ipykernel_27640\\480715261.py:3: FutureWarning: A value is trying to be set on a copy of a DataFrame or Series through chained assignment using an inplace method.\n",
      "The behavior will change in pandas 3.0. This inplace method will never work because the intermediate object on which we are setting values always behaves as a copy.\n",
      "\n",
      "For example, when doing 'df[col].method(value, inplace=True)', try using 'df.method({col: value}, inplace=True)' or df[col] = df[col].method(value) instead, to perform the operation inplace on the original object.\n",
      "\n",
      "\n",
      "  complete_demanda_prod_df['demanda'].bfill(inplace=True)\n"
     ]
    }
   ],
   "source": [
    "# Preprocesamiento de la serie de tiempo\n",
    "complete_demanda_prod_df['demanda'].ffill(inplace=True)\n",
    "complete_demanda_prod_df['demanda'].bfill(inplace=True)"
   ]
  },
  {
   "cell_type": "code",
   "execution_count": 46,
   "metadata": {},
   "outputs": [],
   "source": [
    "# Crear un dataframe vacio\n",
    "complete_demanda_prod_df = complete_demanda_prod_df.sort_values(by='date', ascending=True)\n",
    "complete_demanda_prod_df.reset_index(drop=True, inplace=True)\n",
    "\n",
    "# Crear una columna indicadora para el 29 de febrero\n",
    "complete_demanda_prod_df['is_feb_29'] = complete_demanda_prod_df['date'].apply(lambda x: x.month == 2 and x.day == 29)\n",
    "complete_demanda_prod_df = complete_demanda_prod_df[~complete_demanda_prod_df['is_feb_29']]\n",
    "\n",
    "# Crear la clave mes-día\n",
    "complete_demanda_prod_df['mes_dia'] = complete_demanda_prod_df['mes'].astype(str) + '-' + complete_demanda_prod_df['dia'].astype(str)\n",
    "\n",
    "# Crear la tabla pivote\n",
    "transformed_df = complete_demanda_prod_df.pivot_table(index='mes_dia', columns='anio', values='demanda')\n",
    "\n",
    "# Resetear el índice y eliminar nombres de índice no deseados\n",
    "transformed_df.reset_index(inplace=True, drop=False)\n",
    "transformed_df.columns.name = None  # Quita el nombre del índice de columnas"
   ]
  },
  {
   "cell_type": "code",
   "execution_count": 47,
   "metadata": {},
   "outputs": [],
   "source": [
    "# Dividir la columna 'mes_dia' en dos columnas 'mes' y 'dia'\n",
    "transformed_df[['mes', 'dia']] = transformed_df['mes_dia'].str.split('-', expand=True)\n",
    "\n",
    "# Convertir las nuevas columnas a tipo entero si es necesario\n",
    "transformed_df['mes'] = transformed_df['mes'].astype(int)\n",
    "transformed_df['dia'] = transformed_df['dia'].astype(int)"
   ]
  },
  {
   "cell_type": "code",
   "execution_count": 50,
   "metadata": {},
   "outputs": [],
   "source": [
    "# Renombrar columnas de años a 'demanda_{anio}'\n",
    "transformed_df = transformed_df.rename(columns=lambda x: f\"demanda_{x}\" if isinstance(x, int) else x)"
   ]
  },
  {
   "cell_type": "code",
   "execution_count": 53,
   "metadata": {},
   "outputs": [],
   "source": [
    "# Calculo de diferencia de datos\n",
    "cols_demanda = [c for c in transformed_df.columns if 'demanda' in c]\n",
    "for i,c in enumerate(cols_demanda):\n",
    "    if i>0:\n",
    "        transformed_df['pct_var_rel_{a}_{am1}'.format(a=cols_demanda[i][-4:], am1=cols_demanda[i-1][-4:])] = \\\n",
    "            (transformed_df[cols_demanda[i]] - transformed_df[cols_demanda[i-1]]) / transformed_df[cols_demanda[i-1]]"
   ]
  },
  {
   "cell_type": "code",
   "execution_count": 63,
   "metadata": {},
   "outputs": [
    {
     "name": "stderr",
     "output_type": "stream",
     "text": [
      "C:\\Users\\juanc\\AppData\\Local\\Temp\\ipykernel_27640\\2171710298.py:6: FutureWarning: A value is trying to be set on a copy of a DataFrame or Series through chained assignment using an inplace method.\n",
      "The behavior will change in pandas 3.0. This inplace method will never work because the intermediate object on which we are setting values always behaves as a copy.\n",
      "\n",
      "For example, when doing 'df[col].method(value, inplace=True)', try using 'df.method({col: value}, inplace=True)' or df[col] = df[col].method(value) instead, to perform the operation inplace on the original object.\n",
      "\n",
      "\n",
      "  transformed_df['pct_var_rel_2022_2021'].fillna(transformed_df['pct_var_rel_2022_2021'].mean(), inplace=True)\n"
     ]
    }
   ],
   "source": [
    "# Esto se hace de ultimo\n",
    "# Calcular la media del porcentage de varianza relativo\n",
    "N_pct_cols = float(len([c for c in transformed_df.columns if 'pct_var_rel' in c]))\n",
    "\n",
    "# Relleno de los valores de % relativo de variacion con el promedio anual\n",
    "transformed_df['pct_var_rel_2022_2021'].fillna(transformed_df['pct_var_rel_2022_2021'].mean(), inplace=True)\n",
    "\n",
    "# Para no terminar con NaN se puede crear una funcion que calcule el promedio y luego se aplica con apply() \n",
    "transformed_df['avg_pct_var_rel'] =  (transformed_df['pct_var_rel_2021_2020'] + transformed_df['pct_var_rel_2022_2021']) / N_pct_cols\n",
    "\n"
   ]
  },
  {
   "cell_type": "code",
   "execution_count": 66,
   "metadata": {},
   "outputs": [
    {
     "name": "stderr",
     "output_type": "stream",
     "text": [
      "<>:2: SyntaxWarning: invalid escape sequence '\\D'\n",
      "<>:2: SyntaxWarning: invalid escape sequence '\\D'\n",
      "C:\\Users\\juanc\\AppData\\Local\\Temp\\ipykernel_27640\\3844840410.py:2: SyntaxWarning: invalid escape sequence '\\D'\n",
      "  demanda_test_df = pd.read_csv(\".\\Datos\\demanda_test.csv\")\n"
     ]
    }
   ],
   "source": [
    "# Cargue de datos para test:\n",
    "demanda_test_df = pd.read_csv(\".\\Datos\\demanda_test.csv\")\n",
    "demanda_test_df['date'] = pd.to_datetime(demanda_test_df['date'], format='%Y-%m-%d')\n",
    "demanda_test_df = demanda_test_df[demanda_test_df['id_producto']==1]"
   ]
  },
  {
   "cell_type": "code",
   "execution_count": 67,
   "metadata": {},
   "outputs": [],
   "source": [
    "# Primero, asegurar que todas las fechas estan\n",
    "# fecha_inicial = pd.to_datetime('2020-01-01')\n",
    "fechas_df = pd.DataFrame({'date': pd.date_range(start=demanda_test_df['date'].min(), end=demanda_prod_df['date'].max())})\n",
    "complete_demanda_test_df = fechas_df.merge(demanda_test_df\n",
    "                                           ,how='left'\n",
    "                                           ,left_on='date'\n",
    "                                           ,right_on='date'\n",
    "                                           )"
   ]
  },
  {
   "cell_type": "code",
   "execution_count": 68,
   "metadata": {},
   "outputs": [],
   "source": [
    "demanda_test_df['anio'] = demanda_test_df['date'].dt.year\n",
    "demanda_test_df['mes'] = demanda_test_df['date'].dt.month\n",
    "demanda_test_df['dia'] = demanda_test_df['date'].dt.day"
   ]
  },
  {
   "cell_type": "code",
   "execution_count": 69,
   "metadata": {},
   "outputs": [],
   "source": [
    "# Asegurarse de que las columnas tienen el mismo nombre y tipo de datos\n",
    "transformed_df['mes'] = transformed_df['mes'].astype(int)\n",
    "transformed_df['dia'] = transformed_df['dia'].astype(int)\n",
    "demanda_test_df['mes'] = demanda_test_df['mes'].astype(int)\n",
    "demanda_test_df['dia'] = demanda_test_df['dia'].astype(int)"
   ]
  },
  {
   "cell_type": "code",
   "execution_count": 72,
   "metadata": {},
   "outputs": [],
   "source": [
    "# Prediccion simple - aqui el \"entrenamiento\" es directamente consecutivo de los datos de prueba\n",
    "# Una funcion mas robusta es necesaria a futuro\n",
    "\n",
    "# Realizar el left join nuevamente después de las correcciones\n",
    "final_transf_df = transformed_df.loc[:, ['mes', 'dia', 'demanda_2020', 'demanda_2021', 'demanda_2022', 'avg_pct_var_rel']]\n",
    "join_df = demanda_test_df.merge(final_transf_df, how='left', left_on=['mes', 'dia'], right_on=['mes', 'dia'])"
   ]
  },
  {
   "cell_type": "code",
   "execution_count": 85,
   "metadata": {},
   "outputs": [],
   "source": [
    "# Prediccion final\n",
    "def simple_predict(row):\n",
    "    if row['anio'] == 2022 and pd.isna(row['demanda_2022']):\n",
    "        return row['demanda_2021'] + round(row['demanda_2021']*row['avg_pct_var_rel'])\n",
    "    else:\n",
    "        return row['demanda_2022'] + round(row['demanda_2022']*row['avg_pct_var_rel'])\n",
    "    \n",
    "\n",
    "join_df['prediccion_demanda'] = join_df.apply(simple_predict, axis=1)"
   ]
  },
  {
   "cell_type": "code",
   "execution_count": 92,
   "metadata": {},
   "outputs": [],
   "source": [
    "prediction_df = join_df.loc[:,['date', 'prediccion_demanda']]\n",
    "prediction_df['prediccion_demanda'] = prediction_df['prediccion_demanda'].astype(int)"
   ]
  },
  {
   "cell_type": "code",
   "execution_count": 100,
   "metadata": {},
   "outputs": [
    {
     "data": {
      "image/png": "[encoded data removed]",
      "text/plain": [
       "<Figure size 640x480 with 1 Axes>"
      ]
     },
     "metadata": {},
     "output_type": "display_data"
    }
   ],
   "source": [
    "aux_df = complete_demanda_prod_df[complete_demanda_prod_df['date']>'2021-10-01']\n",
    "plt.plot(aux_df.date, aux_df.demanda)\n",
    "plt.plot(prediction_df['date'], prediction_df['prediccion_demanda'], color='r')\n",
    "\n",
    "# Formatear los ticks para que muestren solo el mes y el anio\n",
    "plt.gca().xaxis.set_major_formatter(plt.matplotlib.dates.DateFormatter('%Y-%m'))\n",
    "\n",
    "# Rotar los x-ticks para mayor legibilidad\n",
    "plt.gcf().autofmt_xdate()\n",
    "\n",
    "plt.xlabel('Fecha')\n",
    "plt.ylabel('Demanda')\n",
    "plt.title(\"Demanda del producto\")\n",
    "plt.legend(['datos_iniciales', 'prediccion simple'])\n",
    "\n",
    "\n",
    "plt.show()"
   ]
  },
  {
   "cell_type": "code",
   "execution_count": null,
   "metadata": {},
   "outputs": [],
   "source": [
    "# Validacion con funcion"
   ]
  },
  {
   "cell_type": "markdown",
   "metadata": {},
   "source": [
    "# 2. Con un modelo Autoregresivo"
   ]
  },
  {
   "cell_type": "markdown",
   "metadata": {},
   "source": [
    "# 3. Con una Red Neuronal Recurrente o LSTM"
   ]
  },
  {
   "cell_type": "markdown",
   "metadata": {},
   "source": []
  }
 ],
 "metadata": {
  "kernelspec": {
   "display_name": "ai-forecast",
   "language": "python",
   "name": "python3"
  },
  "language_info": {
   "codemirror_mode": {
    "name": "ipython",
    "version": 3
   },
   "file_extension": ".py",
   "mimetype": "text/x-python",
   "name": "python",
   "nbconvert_exporter": "python",
   "pygments_lexer": "ipython3",
   "version": "3.12.7"
  }
 },
 "nbformat": 4,
 "nbformat_minor": 2
}
