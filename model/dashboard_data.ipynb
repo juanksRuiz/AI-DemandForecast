{
 "cells": [
  {
   "cell_type": "code",
   "execution_count": 2,
   "id": "05620dba",
   "metadata": {},
   "outputs": [],
   "source": [
    "import numpy as np\n",
    "import pandas as pd\n",
    "import matplotlib.pyplot as plt\n",
    "import seaborn as sns\n",
    "\n",
    "from utility_funcs import *\n",
    "import xgboost as xgb"
   ]
  },
  {
   "cell_type": "code",
   "execution_count": 3,
   "id": "7c70e4aa",
   "metadata": {},
   "outputs": [],
   "source": [
    "demanda_df = pd.read_csv(\".\\Datos\\demanda.csv\")"
   ]
  },
  {
   "cell_type": "code",
   "execution_count": 4,
   "id": "3956e062",
   "metadata": {},
   "outputs": [
    {
     "name": "stderr",
     "output_type": "stream",
     "text": [
      "C:\\Users\\juanc\\AppData\\Local\\Temp\\ipykernel_31828\\2870044259.py:2: SettingWithCopyWarning: \n",
      "A value is trying to be set on a copy of a slice from a DataFrame\n",
      "\n",
      "See the caveats in the documentation: https://pandas.pydata.org/pandas-docs/stable/user_guide/indexing.html#returning-a-view-versus-a-copy\n",
      "  demanda_prod_df.drop(columns=['id_producto'], inplace=True)\n",
      "C:\\Users\\juanc\\AppData\\Local\\Temp\\ipykernel_31828\\2870044259.py:3: SettingWithCopyWarning: \n",
      "A value is trying to be set on a copy of a slice from a DataFrame.\n",
      "Try using .loc[row_indexer,col_indexer] = value instead\n",
      "\n",
      "See the caveats in the documentation: https://pandas.pydata.org/pandas-docs/stable/user_guide/indexing.html#returning-a-view-versus-a-copy\n",
      "  demanda_prod_df['date'] = pd.to_datetime(demanda_prod_df['date'], format='%Y-%m-%d')\n"
     ]
    }
   ],
   "source": [
    "demanda_prod_df = demanda_df[demanda_df['id_producto']==1]\n",
    "demanda_prod_df.drop(columns=['id_producto'], inplace=True)\n",
    "demanda_prod_df['date'] = pd.to_datetime(demanda_prod_df['date'], format='%Y-%m-%d')\n",
    "\n",
    "# Primero, asegurar que todas las fechas estan\n",
    "# Los datos de demanda iniciales no tienen enero 2020\n",
    "fecha_inicial = pd.to_datetime('2020-01-01')\n",
    "fechas_df = pd.DataFrame({'date': pd.date_range(start=fecha_inicial, end=demanda_prod_df['date'].max())})\n",
    "complete_demanda_prod_df = fechas_df.merge(demanda_prod_df\n",
    "                                           ,how='left'\n",
    "                                           ,left_on='date'\n",
    "                                           ,right_on='date'\n",
    "                                           )"
   ]
  },
  {
   "cell_type": "code",
   "execution_count": 5,
   "id": "16ef925c",
   "metadata": {},
   "outputs": [
    {
     "name": "stderr",
     "output_type": "stream",
     "text": [
      "C:\\Users\\juanc\\AppData\\Local\\Temp\\ipykernel_31828\\1117770948.py:2: FutureWarning: A value is trying to be set on a copy of a DataFrame or Series through chained assignment using an inplace method.\n",
      "The behavior will change in pandas 3.0. This inplace method will never work because the intermediate object on which we are setting values always behaves as a copy.\n",
      "\n",
      "For example, when doing 'df[col].method(value, inplace=True)', try using 'df.method({col: value}, inplace=True)' or df[col] = df[col].method(value) instead, to perform the operation inplace on the original object.\n",
      "\n",
      "\n",
      "  complete_demanda_prod_df['demanda'].ffill(inplace=True)\n",
      "C:\\Users\\juanc\\AppData\\Local\\Temp\\ipykernel_31828\\1117770948.py:3: FutureWarning: A value is trying to be set on a copy of a DataFrame or Series through chained assignment using an inplace method.\n",
      "The behavior will change in pandas 3.0. This inplace method will never work because the intermediate object on which we are setting values always behaves as a copy.\n",
      "\n",
      "For example, when doing 'df[col].method(value, inplace=True)', try using 'df.method({col: value}, inplace=True)' or df[col] = df[col].method(value) instead, to perform the operation inplace on the original object.\n",
      "\n",
      "\n",
      "  complete_demanda_prod_df['demanda'].bfill(inplace=True)\n"
     ]
    }
   ],
   "source": [
    "# Preprocesamiento de la serie de tiempo\n",
    "complete_demanda_prod_df['demanda'].ffill(inplace=True)\n",
    "complete_demanda_prod_df['demanda'].bfill(inplace=True)\n",
    "\n",
    "\n",
    "# Eliminacion de 29 de febrero.\n",
    "complete_demanda_prod_df = complete_demanda_prod_df.sort_values(by='date', ascending=True)"
   ]
  },
  {
   "cell_type": "code",
   "execution_count": 6,
   "id": "9b6ac626",
   "metadata": {},
   "outputs": [],
   "source": [
    "# Generacion de variables exogenas\n",
    "exog_vars_dict = generate_exogenous(complete_demanda_prod_df['date'].min(), complete_demanda_prod_df.shape[0])\n",
    "exog_vars_df = pd.DataFrame(exog_vars_dict)\n",
    "exog_vars_df['date'] = complete_demanda_prod_df['date']"
   ]
  },
  {
   "cell_type": "code",
   "execution_count": 8,
   "id": "4e38c4fa",
   "metadata": {},
   "outputs": [],
   "source": [
    "# Unioin de dataset general con exogenas\n",
    "full_data_df = complete_demanda_prod_df.merge(exog_vars_df ,how='left' ,left_on='date' ,right_on='date', suffixes=('_endog', '_exog'))"
   ]
  },
  {
   "cell_type": "code",
   "execution_count": 11,
   "id": "0041ee75",
   "metadata": {},
   "outputs": [],
   "source": [
    "# Extraer mes y anio (y dia)\n",
    "full_data_df['anio'] = full_data_df['date'].dt.year\n",
    "full_data_df['mes'] = full_data_df['date'].dt.month\n",
    "full_data_df['dia'] = full_data_df['date'].dt.day\n",
    "# Agrupar por mes, anio y luego calcular el Q1, Q3 y el IQR\n",
    "grouped_df = full_data_df.groupby(['anio','mes'])['demanda'].agg(\n",
    "        q1=lambda x: x.quantile(0.25),\n",
    "        q3=lambda x: x.quantile(0.75)\n",
    ").reset_index()\n",
    "\n",
    "grouped_df['iqr'] = grouped_df['q3'] - grouped_df['q1']\n",
    "grouped_df['lower_bound'] = grouped_df['q1'] - 1.5 * grouped_df['iqr']\n",
    "grouped_df['upper_bound'] = grouped_df['q3'] + 1.5 * grouped_df['iqr']\n",
    "\n",
    "# Hacer merge para unir los límites de cada mes con los datos originales\n",
    "merged_df = pd.merge(full_data_df, grouped_df, on=['anio', 'mes'], how='left')\n",
    "\n",
    "# Marcar outliers\n",
    "merged_df['is_outlier_low'] = merged_df['demanda'] < merged_df['lower_bound']\n",
    "merged_df['is_outlier_high'] = merged_df['demanda'] > merged_df['upper_bound']\n"
   ]
  },
  {
   "cell_type": "code",
   "execution_count": 14,
   "id": "946c3e5a",
   "metadata": {},
   "outputs": [],
   "source": [
    "merged_df.to_csv('ventas.csv',index=False)"
   ]
  }
 ],
 "metadata": {
  "kernelspec": {
   "display_name": "ai-forecast",
   "language": "python",
   "name": "python3"
  },
  "language_info": {
   "codemirror_mode": {
    "name": "ipython",
    "version": 3
   },
   "file_extension": ".py",
   "mimetype": "text/x-python",
   "name": "python",
   "nbconvert_exporter": "python",
   "pygments_lexer": "ipython3",
   "version": "3.11.0"
  }
 },
 "nbformat": 4,
 "nbformat_minor": 5
}
