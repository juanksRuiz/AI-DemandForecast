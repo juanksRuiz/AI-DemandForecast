{
 "cells": [
  {
   "cell_type": "markdown",
   "metadata": {},
   "source": [
    "## Corrercciones futuras\n",
    "- El modelo va a predecir una cantidad `N` de dias. No recibe nada mas\n",
    "- A futuro el modelo se mueve con el tiempo.\n",
    "\n",
    "## Consideraciones\n",
    "- Supuesto: Inicialmente, el ultimo dia a la fecha es (el ultimo dia del dataset)\n",
    "- Dependiendo del ultimo dia con el cual se entreno se calculan `N` dias mas y se crea ese rango de fechas para crear las variables exogenas"
   ]
  },
  {
   "cell_type": "code",
   "execution_count": 32,
   "metadata": {},
   "outputs": [],
   "source": [
    "import numpy as np\n",
    "import pandas as pd\n",
    "\n",
    "# Opcion 1, lo hacemos desde 0 con grid_search\n",
    "import itertools\n",
    "from sklearn.model_selection import TimeSeriesSplit\n",
    "#import statsmodels.api as sm\n",
    "from statsmodels.tsa.arima.model import ARIMA\n",
    "from utility_funcs import *\n",
    "\n",
    "\n",
    "import joblib"
   ]
  },
  {
   "cell_type": "code",
   "execution_count": 33,
   "metadata": {},
   "outputs": [],
   "source": [
    "# Cargue de datos\n",
    "demanda_df = pd.read_csv(\".\\Datos\\demanda.csv\")"
   ]
  },
  {
   "cell_type": "code",
   "execution_count": 34,
   "metadata": {},
   "outputs": [
    {
     "name": "stderr",
     "output_type": "stream",
     "text": [
      "C:\\Users\\juanc\\AppData\\Local\\Temp\\ipykernel_21632\\3668112741.py:2: SettingWithCopyWarning: \n",
      "A value is trying to be set on a copy of a slice from a DataFrame.\n",
      "Try using .loc[row_indexer,col_indexer] = value instead\n",
      "\n",
      "See the caveats in the documentation: https://pandas.pydata.org/pandas-docs/stable/user_guide/indexing.html#returning-a-view-versus-a-copy\n",
      "  demanda_prod_df['date'] = pd.to_datetime(demanda_prod_df['date'], format='%Y-%m-%d')\n"
     ]
    }
   ],
   "source": [
    "demanda_prod_df = demanda_df[demanda_df['id_producto']==1]\n",
    "demanda_prod_df['date'] = pd.to_datetime(demanda_prod_df['date'], format='%Y-%m-%d')"
   ]
  },
  {
   "cell_type": "code",
   "execution_count": 35,
   "metadata": {},
   "outputs": [],
   "source": [
    "# Primero, asegurar que todas las fechas estan\n",
    "# Los datos de demanda iniciales no tienen enero 2020\n",
    "fecha_inicial = pd.to_datetime('2020-01-01')\n",
    "fechas_df = pd.DataFrame({'date': pd.date_range(start=fecha_inicial, end=demanda_prod_df['date'].max())})\n",
    "complete_demanda_prod_df = fechas_df.merge(demanda_prod_df\n",
    "                                           ,how='left'\n",
    "                                           ,left_on='date'\n",
    "                                           ,right_on='date'\n",
    "                                           )"
   ]
  },
  {
   "cell_type": "code",
   "execution_count": 36,
   "metadata": {},
   "outputs": [],
   "source": [
    "exog_dict = create_exog_cols_from_date_series(complete_demanda_prod_df['date']\n",
    "                                              , event_date='2021-07-02'\n",
    "                                              , event_name='llegada_tienda_comp'\n",
    "                                              )\n",
    "exog_df = pd.DataFrame(exog_dict)"
   ]
  },
  {
   "cell_type": "code",
   "execution_count": 37,
   "metadata": {},
   "outputs": [],
   "source": [
    "assert complete_demanda_prod_df.shape[0] == exog_df.shape[0]\n",
    "\n",
    "data_df = pd.concat([complete_demanda_prod_df, exog_df], axis=1)"
   ]
  },
  {
   "cell_type": "markdown",
   "metadata": {},
   "source": [
    "## No se realiza ningun preprocesamiento para pasar al despliegue del modelo"
   ]
  },
  {
   "cell_type": "code",
   "execution_count": 38,
   "metadata": {},
   "outputs": [],
   "source": [
    "# Entrenamiento de modelo ARIMA - Suponemos que mejores parametros son (2,1,7)\n",
    "N_train = 400 # cantidad de dias previos usados en el entrenamiento\n",
    "y_train = data_df['demanda'][-N_train:]\n",
    "X_exog = data_df[exog_df.columns]\n",
    "X_exog_train = X_exog.iloc[-N_train:, :]"
   ]
  },
  {
   "cell_type": "code",
   "execution_count": 39,
   "metadata": {},
   "outputs": [
    {
     "name": "stderr",
     "output_type": "stream",
     "text": [
      "c:\\Users\\juanc\\Desktop\\AI-DemandForecast\\ai-forecast\\Lib\\site-packages\\statsmodels\\base\\model.py:607: ConvergenceWarning: Maximum Likelihood optimization failed to converge. Check mle_retvals\n",
      "  warnings.warn(\"Maximum Likelihood optimization failed to \"\n"
     ]
    }
   ],
   "source": [
    "modelo_arima = ARIMA(y_train, order=(2, 1, 7)\n",
    "                     , enforce_stationarity=False\n",
    "                    , enforce_invertibility=False\n",
    "                    , exog=X_exog_train.astype(float)\n",
    "                    )\n",
    "modelo_fit = modelo_arima.fit(method_kwargs={\"maxiter\": 200})\n",
    "\n",
    "# Predicciones en el conjunto de prueba\n",
    "# predictions_arima = modelo_fit.forecast(steps=len(y_test), exog=X_exog_test)"
   ]
  },
  {
   "cell_type": "code",
   "execution_count": 40,
   "metadata": {},
   "outputs": [],
   "source": [
    "# Ultima fecha de entrenamiento para guardar como metadato\n",
    "ultima_fecha = list(data_df['date'][-N_train:])[-1]\n",
    "ultima_fecha_dict = {'ultima_fecha': ultima_fecha.strftime('%Y-%m-%d')}"
   ]
  },
  {
   "cell_type": "code",
   "execution_count": 41,
   "metadata": {},
   "outputs": [],
   "source": [
    "import json\n",
    "import pickle"
   ]
  },
  {
   "cell_type": "code",
   "execution_count": 42,
   "metadata": {},
   "outputs": [],
   "source": [
    "# Output de modelo en formato Joblib conservando informacion adicional de las fechas de entrenamiento\n",
    "model_name = \"forecast_model_with_exogenous-0.1.0.pkl\"\n",
    "#joblib.dump(modelo_arima, model_name)\n",
    "# Guarda el modelo en un archivo\n",
    "with open('./' + model_name, 'wb') as f:\n",
    "    pickle.dump(modelo_fit, f)\n",
    "\n",
    "with open('metadata.json', 'w') as f:\n",
    "    json.dump(ultima_fecha_dict, f)"
   ]
  }
 ],
 "metadata": {
  "kernelspec": {
   "display_name": "ai-forecast",
   "language": "python",
   "name": "python3"
  },
  "language_info": {
   "codemirror_mode": {
    "name": "ipython",
    "version": 3
   },
   "file_extension": ".py",
   "mimetype": "text/x-python",
   "name": "python",
   "nbconvert_exporter": "python",
   "pygments_lexer": "ipython3",
   "version": "3.11.0"
  }
 },
 "nbformat": 4,
 "nbformat_minor": 2
}
